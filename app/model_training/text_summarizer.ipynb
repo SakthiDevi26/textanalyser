{
  "nbformat": 4,
  "nbformat_minor": 0,
  "metadata": {
    "kernelspec": {
      "name": "python3",
      "display_name": "Python 3"
    },
    "toc": {
      "base_numbering": 1,
      "nav_menu": {},
      "number_sections": true,
      "sideBar": true,
      "skip_h1_title": false,
      "title_cell": "Table of Contents",
      "title_sidebar": "Contents",
      "toc_cell": false,
      "toc_position": {},
      "toc_section_display": true,
      "toc_window_display": true
    },
    "colab": {
      "name": "text_summarizer.ipynb",
      "provenance": [],
      "collapsed_sections": []
    },
    "accelerator": "GPU",
    "widgets": {
      "application/vnd.jupyter.widget-state+json": {
        "d5b4a4866b684d6c9b076f5e95985bd9": {
          "model_module": "@jupyter-widgets/controls",
          "model_name": "HBoxModel",
          "state": {
            "_view_name": "HBoxView",
            "_dom_classes": [],
            "_model_name": "HBoxModel",
            "_view_module": "@jupyter-widgets/controls",
            "_model_module_version": "1.5.0",
            "_view_count": null,
            "_view_module_version": "1.5.0",
            "box_style": "",
            "layout": "IPY_MODEL_267fe3af99a04e71bfab1643ee10a349",
            "_model_module": "@jupyter-widgets/controls",
            "children": [
              "IPY_MODEL_79fe8c24f0ca496b9a9174daa3eb8da6",
              "IPY_MODEL_014b355871a246e081b96052f76c9dd1"
            ]
          }
        },
        "267fe3af99a04e71bfab1643ee10a349": {
          "model_module": "@jupyter-widgets/base",
          "model_name": "LayoutModel",
          "state": {
            "_view_name": "LayoutView",
            "grid_template_rows": null,
            "right": null,
            "justify_content": null,
            "_view_module": "@jupyter-widgets/base",
            "overflow": null,
            "_model_module_version": "1.2.0",
            "_view_count": null,
            "flex_flow": null,
            "width": null,
            "min_width": null,
            "border": null,
            "align_items": null,
            "bottom": null,
            "_model_module": "@jupyter-widgets/base",
            "top": null,
            "grid_column": null,
            "overflow_y": null,
            "overflow_x": null,
            "grid_auto_flow": null,
            "grid_area": null,
            "grid_template_columns": null,
            "flex": null,
            "_model_name": "LayoutModel",
            "justify_items": null,
            "grid_row": null,
            "max_height": null,
            "align_content": null,
            "visibility": null,
            "align_self": null,
            "height": null,
            "min_height": null,
            "padding": null,
            "grid_auto_rows": null,
            "grid_gap": null,
            "max_width": null,
            "order": null,
            "_view_module_version": "1.2.0",
            "grid_template_areas": null,
            "object_position": null,
            "object_fit": null,
            "grid_auto_columns": null,
            "margin": null,
            "display": null,
            "left": null
          }
        },
        "79fe8c24f0ca496b9a9174daa3eb8da6": {
          "model_module": "@jupyter-widgets/controls",
          "model_name": "FloatProgressModel",
          "state": {
            "_view_name": "ProgressView",
            "style": "IPY_MODEL_3ed256219d55494e9e65b8c103ccec3e",
            "_dom_classes": [],
            "description": "Downloading: 100%",
            "_model_name": "FloatProgressModel",
            "bar_style": "success",
            "max": 791656,
            "_view_module": "@jupyter-widgets/controls",
            "_model_module_version": "1.5.0",
            "value": 791656,
            "_view_count": null,
            "_view_module_version": "1.5.0",
            "orientation": "horizontal",
            "min": 0,
            "description_tooltip": null,
            "_model_module": "@jupyter-widgets/controls",
            "layout": "IPY_MODEL_55c9b22fbe7a4bcfb5adb931e46b815c"
          }
        },
        "014b355871a246e081b96052f76c9dd1": {
          "model_module": "@jupyter-widgets/controls",
          "model_name": "HTMLModel",
          "state": {
            "_view_name": "HTMLView",
            "style": "IPY_MODEL_884d4ecff28c454c95bc4152c97c0802",
            "_dom_classes": [],
            "description": "",
            "_model_name": "HTMLModel",
            "placeholder": "​",
            "_view_module": "@jupyter-widgets/controls",
            "_model_module_version": "1.5.0",
            "value": " 792k/792k [00:57&lt;00:00, 13.7kB/s]",
            "_view_count": null,
            "_view_module_version": "1.5.0",
            "description_tooltip": null,
            "_model_module": "@jupyter-widgets/controls",
            "layout": "IPY_MODEL_094a063316ac44928534133d5d7eac1c"
          }
        },
        "3ed256219d55494e9e65b8c103ccec3e": {
          "model_module": "@jupyter-widgets/controls",
          "model_name": "ProgressStyleModel",
          "state": {
            "_view_name": "StyleView",
            "_model_name": "ProgressStyleModel",
            "description_width": "initial",
            "_view_module": "@jupyter-widgets/base",
            "_model_module_version": "1.5.0",
            "_view_count": null,
            "_view_module_version": "1.2.0",
            "bar_color": null,
            "_model_module": "@jupyter-widgets/controls"
          }
        },
        "55c9b22fbe7a4bcfb5adb931e46b815c": {
          "model_module": "@jupyter-widgets/base",
          "model_name": "LayoutModel",
          "state": {
            "_view_name": "LayoutView",
            "grid_template_rows": null,
            "right": null,
            "justify_content": null,
            "_view_module": "@jupyter-widgets/base",
            "overflow": null,
            "_model_module_version": "1.2.0",
            "_view_count": null,
            "flex_flow": null,
            "width": null,
            "min_width": null,
            "border": null,
            "align_items": null,
            "bottom": null,
            "_model_module": "@jupyter-widgets/base",
            "top": null,
            "grid_column": null,
            "overflow_y": null,
            "overflow_x": null,
            "grid_auto_flow": null,
            "grid_area": null,
            "grid_template_columns": null,
            "flex": null,
            "_model_name": "LayoutModel",
            "justify_items": null,
            "grid_row": null,
            "max_height": null,
            "align_content": null,
            "visibility": null,
            "align_self": null,
            "height": null,
            "min_height": null,
            "padding": null,
            "grid_auto_rows": null,
            "grid_gap": null,
            "max_width": null,
            "order": null,
            "_view_module_version": "1.2.0",
            "grid_template_areas": null,
            "object_position": null,
            "object_fit": null,
            "grid_auto_columns": null,
            "margin": null,
            "display": null,
            "left": null
          }
        },
        "884d4ecff28c454c95bc4152c97c0802": {
          "model_module": "@jupyter-widgets/controls",
          "model_name": "DescriptionStyleModel",
          "state": {
            "_view_name": "StyleView",
            "_model_name": "DescriptionStyleModel",
            "description_width": "",
            "_view_module": "@jupyter-widgets/base",
            "_model_module_version": "1.5.0",
            "_view_count": null,
            "_view_module_version": "1.2.0",
            "_model_module": "@jupyter-widgets/controls"
          }
        },
        "094a063316ac44928534133d5d7eac1c": {
          "model_module": "@jupyter-widgets/base",
          "model_name": "LayoutModel",
          "state": {
            "_view_name": "LayoutView",
            "grid_template_rows": null,
            "right": null,
            "justify_content": null,
            "_view_module": "@jupyter-widgets/base",
            "overflow": null,
            "_model_module_version": "1.2.0",
            "_view_count": null,
            "flex_flow": null,
            "width": null,
            "min_width": null,
            "border": null,
            "align_items": null,
            "bottom": null,
            "_model_module": "@jupyter-widgets/base",
            "top": null,
            "grid_column": null,
            "overflow_y": null,
            "overflow_x": null,
            "grid_auto_flow": null,
            "grid_area": null,
            "grid_template_columns": null,
            "flex": null,
            "_model_name": "LayoutModel",
            "justify_items": null,
            "grid_row": null,
            "max_height": null,
            "align_content": null,
            "visibility": null,
            "align_self": null,
            "height": null,
            "min_height": null,
            "padding": null,
            "grid_auto_rows": null,
            "grid_gap": null,
            "max_width": null,
            "order": null,
            "_view_module_version": "1.2.0",
            "grid_template_areas": null,
            "object_position": null,
            "object_fit": null,
            "grid_auto_columns": null,
            "margin": null,
            "display": null,
            "left": null
          }
        }
      }
    }
  },
  "cells": [
    {
      "cell_type": "code",
      "metadata": {
        "colab": {
          "base_uri": "https://localhost:8080/"
        },
        "id": "HFsnjtPtX5Z_",
        "outputId": "801a9d31-edcb-4404-c636-5f4cf143ead8"
      },
      "source": [
        "!nvidia-smi"
      ],
      "execution_count": null,
      "outputs": [
        {
          "output_type": "stream",
          "text": [
            "Sun Feb 21 21:16:17 2021       \n",
            "+-----------------------------------------------------------------------------+\n",
            "| NVIDIA-SMI 460.39       Driver Version: 460.32.03    CUDA Version: 11.2     |\n",
            "|-------------------------------+----------------------+----------------------+\n",
            "| GPU  Name        Persistence-M| Bus-Id        Disp.A | Volatile Uncorr. ECC |\n",
            "| Fan  Temp  Perf  Pwr:Usage/Cap|         Memory-Usage | GPU-Util  Compute M. |\n",
            "|                               |                      |               MIG M. |\n",
            "|===============================+======================+======================|\n",
            "|   0  Tesla T4            Off  | 00000000:00:04.0 Off |                    0 |\n",
            "| N/A   43C    P8     9W /  70W |      0MiB / 15109MiB |      0%      Default |\n",
            "|                               |                      |                  N/A |\n",
            "+-------------------------------+----------------------+----------------------+\n",
            "                                                                               \n",
            "+-----------------------------------------------------------------------------+\n",
            "| Processes:                                                                  |\n",
            "|  GPU   GI   CI        PID   Type   Process name                  GPU Memory |\n",
            "|        ID   ID                                                   Usage      |\n",
            "|=============================================================================|\n",
            "|  No running processes found                                                 |\n",
            "+-----------------------------------------------------------------------------+\n"
          ],
          "name": "stdout"
        }
      ]
    },
    {
      "cell_type": "markdown",
      "metadata": {
        "id": "_Hf8t8HIYfVv"
      },
      "source": [
        "#Import Libraries"
      ]
    },
    {
      "cell_type": "code",
      "metadata": {
        "colab": {
          "base_uri": "https://localhost:8080/"
        },
        "id": "zkx1RuM9Xv8h",
        "outputId": "bde99131-9d72-43f7-ff44-17f2f59854ef"
      },
      "source": [
        "import torch\r\n",
        "\r\n",
        "if torch.cuda.is_available():        \r\n",
        "    device = torch.device(\"cuda\")\r\n",
        "    print(' GPU:', torch.cuda.get_device_name(0))\r\n",
        "else:\r\n",
        "    print('No GPU available, using the CPU instead.')\r\n",
        "    device = torch.device(\"cpu\")"
      ],
      "execution_count": null,
      "outputs": [
        {
          "output_type": "stream",
          "text": [
            " GPU: Tesla T4\n"
          ],
          "name": "stdout"
        }
      ]
    },
    {
      "cell_type": "code",
      "metadata": {
        "colab": {
          "base_uri": "https://localhost:8080/"
        },
        "id": "08QB0N6m2nx7",
        "outputId": "27e4efdf-bf32-4579-dbcb-6d5e9b2e3999"
      },
      "source": [
        "!pip install nlp transformers pytorch_lightning sentencepiece"
      ],
      "execution_count": null,
      "outputs": [
        {
          "output_type": "stream",
          "text": [
            "Collecting nlp\n",
            "\u001b[?25l  Downloading https://files.pythonhosted.org/packages/09/e3/bcdc59f3434b224040c1047769c47b82705feca2b89ebbc28311e3764782/nlp-0.4.0-py3-none-any.whl (1.7MB)\n",
            "\u001b[K     |████████████████████████████████| 1.7MB 9.0MB/s \n",
            "\u001b[?25hCollecting transformers\n",
            "\u001b[?25l  Downloading https://files.pythonhosted.org/packages/98/87/ef312eef26f5cecd8b17ae9654cdd8d1fae1eb6dbd87257d6d73c128a4d0/transformers-4.3.2-py3-none-any.whl (1.8MB)\n",
            "\u001b[K     |████████████████████████████████| 1.8MB 50.7MB/s \n",
            "\u001b[?25hCollecting pytorch_lightning\n",
            "\u001b[?25l  Downloading https://files.pythonhosted.org/packages/38/38/f010c6de967dd9e3c765a252d0551aff7194bab90b681407c5d702ca22df/pytorch_lightning-1.2.0-py3-none-any.whl (813kB)\n",
            "\u001b[K     |████████████████████████████████| 819kB 50.2MB/s \n",
            "\u001b[?25hCollecting sentencepiece\n",
            "\u001b[?25l  Downloading https://files.pythonhosted.org/packages/14/67/e42bd1181472c95c8cda79305df848264f2a7f62740995a46945d9797b67/sentencepiece-0.1.95-cp36-cp36m-manylinux2014_x86_64.whl (1.2MB)\n",
            "\u001b[K     |████████████████████████████████| 1.2MB 48.1MB/s \n",
            "\u001b[?25hCollecting pyarrow>=0.16.0\n",
            "\u001b[?25l  Downloading https://files.pythonhosted.org/packages/33/67/2f4fcce1b41bcc7e88a6bfdb42046597ae72e5bc95c2789b7c5ac893c433/pyarrow-3.0.0-cp36-cp36m-manylinux2014_x86_64.whl (20.7MB)\n",
            "\u001b[K     |████████████████████████████████| 20.7MB 1.2MB/s \n",
            "\u001b[?25hRequirement already satisfied: pandas in /usr/local/lib/python3.6/dist-packages (from nlp) (1.1.5)\n",
            "Requirement already satisfied: dill in /usr/local/lib/python3.6/dist-packages (from nlp) (0.3.3)\n",
            "Requirement already satisfied: numpy in /usr/local/lib/python3.6/dist-packages (from nlp) (1.19.5)\n",
            "Requirement already satisfied: tqdm>=4.27 in /usr/local/lib/python3.6/dist-packages (from nlp) (4.41.1)\n",
            "Collecting xxhash\n",
            "\u001b[?25l  Downloading https://files.pythonhosted.org/packages/f7/73/826b19f3594756cb1c6c23d2fbd8ca6a77a9cd3b650c9dec5acc85004c38/xxhash-2.0.0-cp36-cp36m-manylinux2010_x86_64.whl (242kB)\n",
            "\u001b[K     |████████████████████████████████| 245kB 45.6MB/s \n",
            "\u001b[?25hRequirement already satisfied: dataclasses; python_version < \"3.7\" in /usr/local/lib/python3.6/dist-packages (from nlp) (0.8)\n",
            "Requirement already satisfied: filelock in /usr/local/lib/python3.6/dist-packages (from nlp) (3.0.12)\n",
            "Requirement already satisfied: requests>=2.19.0 in /usr/local/lib/python3.6/dist-packages (from nlp) (2.23.0)\n",
            "Collecting tokenizers<0.11,>=0.10.1\n",
            "\u001b[?25l  Downloading https://files.pythonhosted.org/packages/fd/5b/44baae602e0a30bcc53fbdbc60bd940c15e143d252d658dfdefce736ece5/tokenizers-0.10.1-cp36-cp36m-manylinux2010_x86_64.whl (3.2MB)\n",
            "\u001b[K     |████████████████████████████████| 3.2MB 52.9MB/s \n",
            "\u001b[?25hCollecting sacremoses\n",
            "\u001b[?25l  Downloading https://files.pythonhosted.org/packages/7d/34/09d19aff26edcc8eb2a01bed8e98f13a1537005d31e95233fd48216eed10/sacremoses-0.0.43.tar.gz (883kB)\n",
            "\u001b[K     |████████████████████████████████| 890kB 47.1MB/s \n",
            "\u001b[?25hRequirement already satisfied: regex!=2019.12.17 in /usr/local/lib/python3.6/dist-packages (from transformers) (2019.12.20)\n",
            "Requirement already satisfied: importlib-metadata; python_version < \"3.8\" in /usr/local/lib/python3.6/dist-packages (from transformers) (3.4.0)\n",
            "Requirement already satisfied: packaging in /usr/local/lib/python3.6/dist-packages (from transformers) (20.9)\n",
            "Collecting future>=0.17.1\n",
            "\u001b[?25l  Downloading https://files.pythonhosted.org/packages/45/0b/38b06fd9b92dc2b68d58b75f900e97884c45bedd2ff83203d933cf5851c9/future-0.18.2.tar.gz (829kB)\n",
            "\u001b[K     |████████████████████████████████| 829kB 45.1MB/s \n",
            "\u001b[?25hCollecting fsspec[http]>=0.8.1\n",
            "\u001b[?25l  Downloading https://files.pythonhosted.org/packages/ec/80/72ac0982cc833945fada4b76c52f0f65435ba4d53bc9317d1c70b5f7e7d5/fsspec-0.8.5-py3-none-any.whl (98kB)\n",
            "\u001b[K     |████████████████████████████████| 102kB 15.5MB/s \n",
            "\u001b[?25hCollecting PyYAML!=5.4.*,>=5.1\n",
            "\u001b[?25l  Downloading https://files.pythonhosted.org/packages/64/c2/b80047c7ac2478f9501676c988a5411ed5572f35d1beff9cae07d321512c/PyYAML-5.3.1.tar.gz (269kB)\n",
            "\u001b[K     |████████████████████████████████| 276kB 52.1MB/s \n",
            "\u001b[?25hRequirement already satisfied: torch>=1.4 in /usr/local/lib/python3.6/dist-packages (from pytorch_lightning) (1.7.0+cu101)\n",
            "Requirement already satisfied: tensorboard>=2.2.0 in /usr/local/lib/python3.6/dist-packages (from pytorch_lightning) (2.4.1)\n",
            "Requirement already satisfied: pytz>=2017.2 in /usr/local/lib/python3.6/dist-packages (from pandas->nlp) (2018.9)\n",
            "Requirement already satisfied: python-dateutil>=2.7.3 in /usr/local/lib/python3.6/dist-packages (from pandas->nlp) (2.8.1)\n",
            "Requirement already satisfied: chardet<4,>=3.0.2 in /usr/local/lib/python3.6/dist-packages (from requests>=2.19.0->nlp) (3.0.4)\n",
            "Requirement already satisfied: urllib3!=1.25.0,!=1.25.1,<1.26,>=1.21.1 in /usr/local/lib/python3.6/dist-packages (from requests>=2.19.0->nlp) (1.24.3)\n",
            "Requirement already satisfied: idna<3,>=2.5 in /usr/local/lib/python3.6/dist-packages (from requests>=2.19.0->nlp) (2.10)\n",
            "Requirement already satisfied: certifi>=2017.4.17 in /usr/local/lib/python3.6/dist-packages (from requests>=2.19.0->nlp) (2020.12.5)\n",
            "Requirement already satisfied: six in /usr/local/lib/python3.6/dist-packages (from sacremoses->transformers) (1.15.0)\n",
            "Requirement already satisfied: click in /usr/local/lib/python3.6/dist-packages (from sacremoses->transformers) (7.1.2)\n",
            "Requirement already satisfied: joblib in /usr/local/lib/python3.6/dist-packages (from sacremoses->transformers) (1.0.0)\n",
            "Requirement already satisfied: typing-extensions>=3.6.4; python_version < \"3.8\" in /usr/local/lib/python3.6/dist-packages (from importlib-metadata; python_version < \"3.8\"->transformers) (3.7.4.3)\n",
            "Requirement already satisfied: zipp>=0.5 in /usr/local/lib/python3.6/dist-packages (from importlib-metadata; python_version < \"3.8\"->transformers) (3.4.0)\n",
            "Requirement already satisfied: pyparsing>=2.0.2 in /usr/local/lib/python3.6/dist-packages (from packaging->transformers) (2.4.7)\n",
            "Collecting aiohttp; extra == \"http\"\n",
            "\u001b[?25l  Downloading https://files.pythonhosted.org/packages/ad/e6/d4b6235d776c9b33f853e603efede5aac5a34f71ca9d3877adb30492eb4e/aiohttp-3.7.3-cp36-cp36m-manylinux2014_x86_64.whl (1.3MB)\n",
            "\u001b[K     |████████████████████████████████| 1.3MB 46.6MB/s \n",
            "\u001b[?25hRequirement already satisfied: google-auth<2,>=1.6.3 in /usr/local/lib/python3.6/dist-packages (from tensorboard>=2.2.0->pytorch_lightning) (1.25.0)\n",
            "Requirement already satisfied: wheel>=0.26; python_version >= \"3\" in /usr/local/lib/python3.6/dist-packages (from tensorboard>=2.2.0->pytorch_lightning) (0.36.2)\n",
            "Requirement already satisfied: markdown>=2.6.8 in /usr/local/lib/python3.6/dist-packages (from tensorboard>=2.2.0->pytorch_lightning) (3.3.3)\n",
            "Requirement already satisfied: grpcio>=1.24.3 in /usr/local/lib/python3.6/dist-packages (from tensorboard>=2.2.0->pytorch_lightning) (1.32.0)\n",
            "Requirement already satisfied: google-auth-oauthlib<0.5,>=0.4.1 in /usr/local/lib/python3.6/dist-packages (from tensorboard>=2.2.0->pytorch_lightning) (0.4.2)\n",
            "Requirement already satisfied: setuptools>=41.0.0 in /usr/local/lib/python3.6/dist-packages (from tensorboard>=2.2.0->pytorch_lightning) (53.0.0)\n",
            "Requirement already satisfied: tensorboard-plugin-wit>=1.6.0 in /usr/local/lib/python3.6/dist-packages (from tensorboard>=2.2.0->pytorch_lightning) (1.8.0)\n",
            "Requirement already satisfied: absl-py>=0.4 in /usr/local/lib/python3.6/dist-packages (from tensorboard>=2.2.0->pytorch_lightning) (0.10.0)\n",
            "Requirement already satisfied: werkzeug>=0.11.15 in /usr/local/lib/python3.6/dist-packages (from tensorboard>=2.2.0->pytorch_lightning) (1.0.1)\n",
            "Requirement already satisfied: protobuf>=3.6.0 in /usr/local/lib/python3.6/dist-packages (from tensorboard>=2.2.0->pytorch_lightning) (3.12.4)\n",
            "Requirement already satisfied: attrs>=17.3.0 in /usr/local/lib/python3.6/dist-packages (from aiohttp; extra == \"http\"->fsspec[http]>=0.8.1->pytorch_lightning) (20.3.0)\n",
            "Collecting async-timeout<4.0,>=3.0\n",
            "  Downloading https://files.pythonhosted.org/packages/e1/1e/5a4441be21b0726c4464f3f23c8b19628372f606755a9d2e46c187e65ec4/async_timeout-3.0.1-py3-none-any.whl\n",
            "Collecting idna-ssl>=1.0; python_version < \"3.7\"\n",
            "  Downloading https://files.pythonhosted.org/packages/46/03/07c4894aae38b0de52b52586b24bf189bb83e4ddabfe2e2c8f2419eec6f4/idna-ssl-1.1.0.tar.gz\n",
            "Collecting multidict<7.0,>=4.5\n",
            "\u001b[?25l  Downloading https://files.pythonhosted.org/packages/a1/35/b22524d6b9cacfb4c5eff413a069bbc17c6ea628e54da5c6c989998ced5f/multidict-5.1.0-cp36-cp36m-manylinux2014_x86_64.whl (141kB)\n",
            "\u001b[K     |████████████████████████████████| 143kB 54.9MB/s \n",
            "\u001b[?25hCollecting yarl<2.0,>=1.0\n",
            "\u001b[?25l  Downloading https://files.pythonhosted.org/packages/da/08/52b26b44bce7b818b410aee37c5e424c9ea420c557bca97dc2adac29b151/yarl-1.6.3-cp36-cp36m-manylinux2014_x86_64.whl (293kB)\n",
            "\u001b[K     |████████████████████████████████| 296kB 56.4MB/s \n",
            "\u001b[?25hRequirement already satisfied: cachetools<5.0,>=2.0.0 in /usr/local/lib/python3.6/dist-packages (from google-auth<2,>=1.6.3->tensorboard>=2.2.0->pytorch_lightning) (4.2.1)\n",
            "Requirement already satisfied: rsa<5,>=3.1.4; python_version >= \"3.6\" in /usr/local/lib/python3.6/dist-packages (from google-auth<2,>=1.6.3->tensorboard>=2.2.0->pytorch_lightning) (4.7)\n",
            "Requirement already satisfied: pyasn1-modules>=0.2.1 in /usr/local/lib/python3.6/dist-packages (from google-auth<2,>=1.6.3->tensorboard>=2.2.0->pytorch_lightning) (0.2.8)\n",
            "Requirement already satisfied: requests-oauthlib>=0.7.0 in /usr/local/lib/python3.6/dist-packages (from google-auth-oauthlib<0.5,>=0.4.1->tensorboard>=2.2.0->pytorch_lightning) (1.3.0)\n",
            "Requirement already satisfied: pyasn1>=0.1.3 in /usr/local/lib/python3.6/dist-packages (from rsa<5,>=3.1.4; python_version >= \"3.6\"->google-auth<2,>=1.6.3->tensorboard>=2.2.0->pytorch_lightning) (0.4.8)\n",
            "Requirement already satisfied: oauthlib>=3.0.0 in /usr/local/lib/python3.6/dist-packages (from requests-oauthlib>=0.7.0->google-auth-oauthlib<0.5,>=0.4.1->tensorboard>=2.2.0->pytorch_lightning) (3.1.0)\n",
            "Building wheels for collected packages: sacremoses, future, PyYAML, idna-ssl\n",
            "  Building wheel for sacremoses (setup.py) ... \u001b[?25l\u001b[?25hdone\n",
            "  Created wheel for sacremoses: filename=sacremoses-0.0.43-cp36-none-any.whl size=893261 sha256=ce96541836b827bb26ed903e86d1dc35b4fe4050a96e6792d6cd67f016f7231a\n",
            "  Stored in directory: /root/.cache/pip/wheels/29/3c/fd/7ce5c3f0666dab31a50123635e6fb5e19ceb42ce38d4e58f45\n",
            "  Building wheel for future (setup.py) ... \u001b[?25l\u001b[?25hdone\n",
            "  Created wheel for future: filename=future-0.18.2-cp36-none-any.whl size=491057 sha256=98f9ab80e949ec7ad46511f001eb17fdc8d9ab7f970396a82a045ec4bb7b0c09\n",
            "  Stored in directory: /root/.cache/pip/wheels/8b/99/a0/81daf51dcd359a9377b110a8a886b3895921802d2fc1b2397e\n",
            "  Building wheel for PyYAML (setup.py) ... \u001b[?25l\u001b[?25hdone\n",
            "  Created wheel for PyYAML: filename=PyYAML-5.3.1-cp36-cp36m-linux_x86_64.whl size=44621 sha256=d63512f5ca3519a765cfb5c8142587e9978becb841d565c009c5f48ed1e6dab0\n",
            "  Stored in directory: /root/.cache/pip/wheels/a7/c1/ea/cf5bd31012e735dc1dfea3131a2d5eae7978b251083d6247bd\n",
            "  Building wheel for idna-ssl (setup.py) ... \u001b[?25l\u001b[?25hdone\n",
            "  Created wheel for idna-ssl: filename=idna_ssl-1.1.0-cp36-none-any.whl size=3163 sha256=dfa301ddb9365920a0da53bbaf782dc089bce570a09e6f471b8d27c6a37740e8\n",
            "  Stored in directory: /root/.cache/pip/wheels/d3/00/b3/32d613e19e08a739751dd6bf998cfed277728f8b2127ad4eb7\n",
            "Successfully built sacremoses future PyYAML idna-ssl\n",
            "Installing collected packages: pyarrow, xxhash, nlp, tokenizers, sacremoses, transformers, future, async-timeout, idna-ssl, multidict, yarl, aiohttp, fsspec, PyYAML, pytorch-lightning, sentencepiece\n",
            "  Found existing installation: pyarrow 0.14.1\n",
            "    Uninstalling pyarrow-0.14.1:\n",
            "      Successfully uninstalled pyarrow-0.14.1\n",
            "  Found existing installation: future 0.16.0\n",
            "    Uninstalling future-0.16.0:\n",
            "      Successfully uninstalled future-0.16.0\n",
            "  Found existing installation: PyYAML 3.13\n",
            "    Uninstalling PyYAML-3.13:\n",
            "      Successfully uninstalled PyYAML-3.13\n",
            "Successfully installed PyYAML-5.3.1 aiohttp-3.7.3 async-timeout-3.0.1 fsspec-0.8.5 future-0.18.2 idna-ssl-1.1.0 multidict-5.1.0 nlp-0.4.0 pyarrow-3.0.0 pytorch-lightning-1.2.0 sacremoses-0.0.43 sentencepiece-0.1.95 tokenizers-0.10.1 transformers-4.3.2 xxhash-2.0.0 yarl-1.6.3\n"
          ],
          "name": "stdout"
        }
      ]
    },
    {
      "cell_type": "code",
      "metadata": {
        "ExecuteTime": {
          "end_time": "2020-09-02T18:48:47.482217Z",
          "start_time": "2020-09-02T18:48:47.245642Z"
        },
        "id": "gj6Ostx_Lw01",
        "colab": {
          "base_uri": "https://localhost:8080/"
        },
        "outputId": "1874c04c-8e31-486b-b69e-1a089715f58b"
      },
      "source": [
        "import argparse\n",
        "import glob\n",
        "import os\n",
        "import json\n",
        "import time\n",
        "import logging\n",
        "import random\n",
        "import re\n",
        "from itertools import chain\n",
        "from string import punctuation\n",
        "\n",
        "import nltk\n",
        "nltk.download('punkt')\n",
        "from nltk.tokenize import sent_tokenize\n",
        "\n",
        "import pandas as pd\n",
        "import numpy as np\n",
        "import torch\n",
        "import pytorch_lightning as pl\n",
        "from torch.utils.data import Dataset, DataLoader\n",
        "from pytorch_lightning.loggers import WandbLogger\n",
        "from nlp import load_metric\n",
        "\n",
        "from transformers import (\n",
        "    AdamW,\n",
        "    T5ForConditionalGeneration,\n",
        "    T5Tokenizer,\n",
        "    get_linear_schedule_with_warmup\n",
        ")\n",
        "\n",
        "import seaborn as sns\n",
        "import matplotlib.pyplot as plt\n",
        "\n",
        "%matplotlib inline\n",
        "# Increase the plot size and font size.\n",
        "plt.rcParams[\"figure.figsize\"] = (12,6)\n",
        "\n",
        "HAPPY_COLORS_PALETTE = [\"#01BEFE\", \"#FFDD00\", \"#FF7D00\", \"#FF006D\", \"#ADFF02\", \"#8F00FF\"]\n",
        "\n",
        "# Seaborn options\n",
        "sns.set(style=\"darkgrid\", palette=HAPPY_COLORS_PALETTE, font_scale=1.4)"
      ],
      "execution_count": null,
      "outputs": [
        {
          "output_type": "stream",
          "text": [
            "[nltk_data] Downloading package punkt to /root/nltk_data...\n",
            "[nltk_data]   Package punkt is already up-to-date!\n"
          ],
          "name": "stdout"
        }
      ]
    },
    {
      "cell_type": "markdown",
      "metadata": {
        "id": "NxxBlB4bLw1C"
      },
      "source": [
        "## Data Loading\r\n"
      ]
    },
    {
      "cell_type": "code",
      "metadata": {
        "ExecuteTime": {
          "end_time": "2020-09-02T18:48:47.865252Z",
          "start_time": "2020-09-02T18:48:47.487297Z"
        },
        "id": "okFn0dybLw1D",
        "colab": {
          "base_uri": "https://localhost:8080/"
        },
        "outputId": "981bf687-781c-4382-a1db-842a71b71882"
      },
      "source": [
        "from nlp import list_datasets\n",
        "datasets_list = list_datasets()\n",
        "print(', '.join(dataset.id for dataset in datasets_list))"
      ],
      "execution_count": null,
      "outputs": [
        {
          "output_type": "stream",
          "text": [
            "acronym_identification, ade_corpus_v2, adversarial_qa, aeslc, afrikaans_ner_corpus, ag_news, ai2_arc, air_dialogue, ajgt_twitter_ar, allegro_reviews, allocine, alt, amazon_polarity, amazon_reviews_multi, amazon_us_reviews, ambig_qa, amttl, anli, app_reviews, aqua_rat, aquamuse, ar_cov19, ar_res_reviews, ar_sarcasm, arabic_billion_words, arabic_pos_dialect, arabic_speech_corpus, arcd, arsentd_lev, art, arxiv_dataset, aslg_pc12, asnq, asset, assin, assin2, atomic, autshumato, bbc_hindi_nli, bc2gm_corpus, best2009, bianet, bible_para, big_patent, billsum, bing_coronavirus_query_set, biomrc, blended_skill_talk, blimp, blog_authorship_corpus, bn_hate_speech, bookcorpus, bookcorpusopen, boolq, bprec, break_data, brwac, bsd_ja_en, bswac, c3, c4, cail2018, caner, capes, catalonia_independence, cawac, cc100, cc_news, cdsc, cdt, cfq, chr_en, cifar10, cifar100, circa, civil_comments, clickbait_news_bg, climate_fever, clinc_oos, clue, cmrc2018, cnn_dailymail, coached_conv_pref, coarse_discourse, codah, code_search_net, com_qa, common_gen, commonsense_qa, compguesswhat, conceptnet5, conll2000, conll2002, conll2003, conv_ai, conv_ai_2, conv_ai_3, coqa, cord19, cornell_movie_dialog, cos_e, cosmos_qa, counter, covid_qa_castorini, covid_qa_deepset, covid_qa_ucsd, covid_tweets_japanese, craigslist_bargains, crawl_domain, crd3, crime_and_punish, crows_pairs, cs_restaurants, curiosity_dialogs, daily_dialog, dane, danish_political_comments, dart, datacommons_factcheck, dbpedia_14, dbrd, deal_or_no_dialog, definite_pronoun_resolution, dengue_filipino, dialog_re, diplomacy_detection, disaster_response_messages, discofuse, discovery, doc2dial, docred, doqa, dream, drop, duorc, dutch_social, dyk, e2e_nlg, e2e_nlg_cleaned, ecb, ehealth_kd, eitb_parcc, eli5, emea, emo, emotion, emotone_ar, empathetic_dialogues, enriched_web_nlg, eraser_multi_rc, esnli, eth_py150_open, ethos, euronews, europa_eac_tm, europa_ecdc_tm, event2Mind, evidence_infer_treatment, exams, factckbr, fake_news_english, fake_news_filipino, farsi_news, fever, financial_phrasebank, finer, flores, flue, fquad, freebase_qa, gap, gem, generated_reviews_enth, generics_kb, german_legal_entity_recognition, germaner, germeval_14, giga_fren, gigaword, glucose, glue, gnad10, go_emotions, google_wellformed_query, grail_qa, great_code, guardian_authorship, gutenberg_time, hans, hansards, hard, harem, has_part, hate_offensive, hate_speech18, hate_speech_filipino, hate_speech_offensive, hate_speech_pl, hate_speech_portuguese, hatexplain, hausa_voa_ner, hausa_voa_topics, hda_nli_hindi, head_qa, health_fact, hebrew_projectbenyehuda, hebrew_sentiment, hebrew_this_world, hellaswag, hind_encorp, hindi_discourse, hippocorpus, hkcancor, hope_edi, hotpot_qa, hover, hrenwac_para, hrwac, humicroedit, hybrid_qa, hyperpartisan_news_detection, iapp_wiki_qa_squad, id_clickbait, id_liputan6, id_nergrit_corpus, id_newspapers_2018, id_panl_bppt, id_puisi, igbo_english_machine_translation, igbo_monolingual, igbo_ner, ilist, imdb, imdb_urdu_reviews, imppres, indic_glue, indonlu, inquisitive_qg, interpress_news_category_tr, irc_disentangle, isixhosa_ner_corpus, isizulu_ner_corpus, iwslt2017, jeopardy, jfleg, jigsaw_toxicity_pred, jnlpba, journalists_questions, kannada_news, kd_conv, kde4, kelm, kilt_tasks, kilt_wikipedia, kinnews_kirnews, kor_3i4k, kor_hate, kor_ner, kor_nli, kor_nlu, kor_qpair, kor_sae, kor_sarcasm, labr, lama, lambada, large_spanish_corpus, lc_quad, lener_br, liar, librispeech_asr, librispeech_lm, limit, lince, linnaeus, liveqa, lj_speech, lm1b, lst20, mac_morpho, makhzan, math_dataset, math_qa, matinf, mc_taco, md_gender_bias, med_hop, medal, medical_dialog, medical_questions_pairs, menyo20k_mt, meta_woz, metooma, metrec, mkb, mkqa, mlqa, mlsum, mnist, mocha, movie_rationales, mrqa, ms_marco, ms_terms, msr_genomics_kbcomp, msr_sqa, msr_text_compression, msr_zhen_translation_parity, msra_ner, mt_eng_vietnamese, muchocine, multi_booked, multi_news, multi_nli, multi_nli_mismatch, multi_para_crawl, multi_re_qa, multi_woz_v22, multi_x_science_sum, mutual_friends, mwsc, myanmar_news, narrativeqa, narrativeqa_manual, natural_questions, ncbi_disease, nchlt, ncslgr, nell, neural_code_search, news_commentary, newsgroup, newsph, newsph_nli, newsqa, newsroom, nkjp-ner, nli_tr, norec, norwegian_ner, nq_open, nsmc, numer_sense, numeric_fused_head, oclar, offcombr, offenseval2020_tr, offenseval_dravidian, ofis_publik, ohsumed, ollie, omp, onestop_english, open_subtitles, openbookqa, openwebtext, opinosis, opus100, opus_books, opus_dgt, opus_dogc, opus_elhuyar, opus_euconst, opus_finlex, opus_fiskmo, opus_gnome, opus_infopankki, opus_memat, opus_montenegrinsubs, opus_openoffice, opus_paracrawl, opus_rf, opus_tedtalks, opus_ubuntu, opus_wikipedia, opus_xhosanavy, orange_sum, oscar, para_crawl, para_pat, paws, paws-x, pec, peer_read, peoples_daily_ner, per_sent, persian_ner, pg19, php, piaf, pib, piqa, pn_summary, poem_sentiment, polemo2, poleval2019_cyberbullying, poleval2019_mt, polsum, polyglot_ner, prachathai67k, pragmeval, proto_qa, psc, ptb_text_only, pubmed, pubmed_qa, py_ast, qa4mre, qa_srl, qa_zre, qangaroo, qanta, qasc, qed, qed_amara, quac, quail, quarel, quartz, quora, quoref, race, re_dial, reasoning_bg, recipe_nlg, reclor, reddit, reddit_tifu, refresd, reuters21578, roman_urdu, ronec, ropes, rotten_tomatoes, s2orc, samsum, sanskrit_classic, saudinewsnet, scan, scb_mt_enth_2020, schema_guided_dstc8, scicite, scielo, scientific_papers, scifact, sciq, scitail, scitldr, search_qa, selqa, sem_eval_2010_task_8, sem_eval_2014_task_1, sem_eval_2020_task_11, sent_comp, senti_lex, senti_ws, sentiment140, sepedi_ner, sesotho_ner_corpus, setimes, setswana_ner_corpus, sharc, sharc_modified, sick, silicone, simple_questions_v2, siswati_ner_corpus, smartdata, sms_spam, snips_built_in_intents, snli, snow_simplified_japanese_corpus, so_stacksample, social_bias_frames, social_i_qa, sofc_materials_articles, sogou_news, spanish_billion_words, spc, species_800, spider, squad, squad_adversarial, squad_es, squad_it, squad_kor_v1, squad_kor_v2, squad_v1_pt, squad_v2, squadshifts, srwac, stereoset, stsb_mt_sv, style_change_detection, super_glue, swag, swahili, swahili_news, swda, swedish_ner_corpus, swedish_reviews, tab_fact, tamilmixsentiment, tanzil, tapaco, tashkeela, taskmaster1, taskmaster2, taskmaster3, tatoeba, ted_hrlr, ted_iwlst2013, ted_multi, ted_talks_iwslt, telugu_books, telugu_news, tep_en_fa_para, thai_toxicity_tweet, thainer, thaiqa_squad, thaisum, tilde_model, times_of_india_news_headlines, tiny_shakespeare, tlc, tmu_gfm_dataset, totto, trec, trivia_qa, tsac, ttc4900, tunizi, tuple_ie, turk, turkish_movie_sentiment, turkish_ner, turkish_product_reviews, turkish_shrinked_ner, turku_ner_corpus, tweet_eval, tweet_qa, tweets_ar_en_parallel, tweets_hate_speech_detection, twi_text_c3, twi_wordsim353, tydiqa, ubuntu_dialogs_corpus, udhr, um005, un_ga, un_multi, un_pc, universal_dependencies, universal_morphologies, urdu_fake_news, urdu_sentiment_corpus, web_nlg, web_of_science, web_questions, weibo_ner, wi_locness, wiki40b, wiki_asp, wiki_atomic_edits, wiki_auto, wiki_bio, wiki_dpr, wiki_hop, wiki_lingua, wiki_movies, wiki_qa, wiki_qa_ar, wiki_snippets, wiki_source, wiki_split, wiki_summary, wikiann, wikicorpus, wikihow, wikipedia, wikisql, wikitext, wikitext_tl39, wili_2018, wino_bias, winograd_wsc, winogrande, wiqa, wisesight1000, wisesight_sentiment, wmt14, wmt15, wmt16, wmt17, wmt18, wmt19, wmt20_mlqe_task1, wmt20_mlqe_task2, wmt20_mlqe_task3, wmt_t2t, wnut_17, wongnai_reviews, woz_dialogue, wrbsc, x_stance, xcopa, xed_en_fi, xglue, xnli, xor_tydi_qa, xquad, xquad_r, xsum, xsum_factuality, xtreme, yahoo_answers_qa, yahoo_answers_topics, yelp_polarity, yelp_review_full, yoruba_bbc_topics, yoruba_gv_ner, yoruba_text_c3, yoruba_wordsim353, youtube_caption_corrections, zest, Fraser/mnist-text-default, Fraser/mnist-text-no-spaces, Fraser/mnist-text-small, Fraser/news-category-dataset, Fraser/python-lines, NbAiLab/norec_agg, NbAiLab/norne, NbAiLab/norwegian_parliament, alireza655/alireza655, astarostap/antisemitic-tweets, astarostap/antisemitic_tweets, ccccccc/hdjw_94ejrjr, cdminix/mgb1, cemigo/test-data, david-wb/zeshel, dispix/test-dataset, ervis/aaa, ervis/qqq, formermagic/github_python_1m, fuliucansheng/data_for_test, german-nlp-group/german_common_crawl, joelito/ler, joelito/sem_eval_2010_task_8, julien-c/dummy-dataset-from-colab, k-halid/ar, lavis-nlp/german_legal_sentences, lhoestq/custom_squad, lhoestq/squad, lhoestq/test, mulcyber/europarl-mono, patrickvonplaten/librispeech_asr_dummy, patrickvonplaten/scientific_papers_dummy, pdesoyres/test, piEsposito/br-quad-2.0, piEsposito/br_quad_20, piEsposito/squad_20_ptbr, sismetanin/rureviews, sshleifer/pseudo_bart_xsum, stas/wmt14-en-de-pre-processed, stas/wmt16-en-ro-pre-processed, susumu2357/squad_v2_sv, wmt/europarl, wmt/news-commentary, wmt/uncorpus, wmt/wikititles, wmt/wmt10, wmt/wmt13, wmt/wmt14, wmt/wmt15, wmt/wmt16, wmt/wmt17, wmt/wmt18, wmt/wmt19\n"
          ],
          "name": "stdout"
        }
      ]
    },
    {
      "cell_type": "code",
      "metadata": {
        "colab": {
          "base_uri": "https://localhost:8080/"
        },
        "id": "iso_mT79avAF",
        "outputId": "4caf63bc-ce9b-4da8-f16b-19d9befce130"
      },
      "source": [
        "from google.colab import drive\r\n",
        "drive.mount('/gdrive') "
      ],
      "execution_count": null,
      "outputs": [
        {
          "output_type": "stream",
          "text": [
            "Drive already mounted at /gdrive; to attempt to forcibly remount, call drive.mount(\"/gdrive\", force_remount=True).\n"
          ],
          "name": "stdout"
        }
      ]
    },
    {
      "cell_type": "code",
      "metadata": {
        "ExecuteTime": {
          "end_time": "2020-09-02T18:48:48.253885Z",
          "start_time": "2020-09-02T18:48:47.868015Z"
        },
        "id": "hCrz6monLw1E"
      },
      "source": [
        "from nlp import load_dataset\n",
        "dataset = load_dataset('wikihow', 'all', data_dir='/gdrive/MyDrive/text_summarizer/')"
      ],
      "execution_count": null,
      "outputs": []
    },
    {
      "cell_type": "code",
      "metadata": {
        "ExecuteTime": {
          "end_time": "2020-09-02T18:48:48.257189Z",
          "start_time": "2020-09-02T18:48:48.255049Z"
        },
        "id": "4Z6jiYtpLw1F",
        "colab": {
          "base_uri": "https://localhost:8080/"
        },
        "outputId": "88922456-4a57-422f-e0eb-563f8eab597d"
      },
      "source": [
        "print(dataset.keys())"
      ],
      "execution_count": null,
      "outputs": [
        {
          "output_type": "stream",
          "text": [
            "dict_keys(['train', 'validation', 'test'])\n"
          ],
          "name": "stdout"
        }
      ]
    },
    {
      "cell_type": "code",
      "metadata": {
        "ExecuteTime": {
          "end_time": "2020-09-02T18:48:48.263225Z",
          "start_time": "2020-09-02T18:48:48.258232Z"
        },
        "id": "QP-__DHkLw1H",
        "colab": {
          "base_uri": "https://localhost:8080/"
        },
        "outputId": "29c6a3c1-825c-419c-ac16-b64df52680bf"
      },
      "source": [
        "print(\"Size of train dataset: \", dataset['train'].shape)"
      ],
      "execution_count": null,
      "outputs": [
        {
          "output_type": "stream",
          "text": [
            "Size of train dataset:  (157252, 3)\n"
          ],
          "name": "stdout"
        }
      ]
    },
    {
      "cell_type": "code",
      "metadata": {
        "ExecuteTime": {
          "end_time": "2020-09-02T18:48:48.269900Z",
          "start_time": "2020-09-02T18:48:48.264319Z"
        },
        "id": "ciK7qnWULw1I",
        "colab": {
          "base_uri": "https://localhost:8080/"
        },
        "outputId": "406618ab-730b-442e-d975-a8d6692da119"
      },
      "source": [
        "print(\"Size of Validation dataset: \", dataset['validation'].shape)"
      ],
      "execution_count": null,
      "outputs": [
        {
          "output_type": "stream",
          "text": [
            "Size of Validation dataset:  (5599, 3)\n"
          ],
          "name": "stdout"
        }
      ]
    },
    {
      "cell_type": "code",
      "metadata": {
        "ExecuteTime": {
          "end_time": "2020-09-02T18:48:48.274748Z",
          "start_time": "2020-09-02T18:48:48.271169Z"
        },
        "id": "WtbX4PvyLw1K",
        "colab": {
          "base_uri": "https://localhost:8080/"
        },
        "outputId": "07182df5-4e42-4296-9b36-9b93739e256b"
      },
      "source": [
        "print(\"Size of ca test dataset: \", dataset['test'].shape)"
      ],
      "execution_count": null,
      "outputs": [
        {
          "output_type": "stream",
          "text": [
            "Size of ca test dataset:  (5577, 3)\n"
          ],
          "name": "stdout"
        }
      ]
    },
    {
      "cell_type": "code",
      "metadata": {
        "ExecuteTime": {
          "end_time": "2020-09-02T18:48:48.279408Z",
          "start_time": "2020-09-02T18:48:48.275717Z"
        },
        "id": "SOPEl4OrLw1M",
        "colab": {
          "base_uri": "https://localhost:8080/"
        },
        "outputId": "1afa8fd9-4c6c-4039-e47f-dbfcd04adc62"
      },
      "source": [
        "print(dataset['train'][0].keys())"
      ],
      "execution_count": null,
      "outputs": [
        {
          "output_type": "stream",
          "text": [
            "dict_keys(['headline', 'text', 'title'])\n"
          ],
          "name": "stdout"
        }
      ]
    },
    {
      "cell_type": "code",
      "metadata": {
        "ExecuteTime": {
          "end_time": "2020-09-02T18:48:48.284043Z",
          "start_time": "2020-09-02T18:48:48.280221Z"
        },
        "id": "itbtT1-MLw1N",
        "colab": {
          "base_uri": "https://localhost:8080/"
        },
        "outputId": "f8f8dea5-c338-4603-e38a-c5fb994d6633"
      },
      "source": [
        "print(\" Example of text: \", dataset['train'][2]['text'])"
      ],
      "execution_count": null,
      "outputs": [
        {
          "output_type": "stream",
          "text": [
            " Example of text:  It is possible to become a VFX artist without a college degree, but the path is often easier with one. VFX artists usually major in fine arts, computer graphics, or animation. Choose a college with a reputation for strength in these areas and a reputation for good job placement for graduates. The availability of internships is another factor to consider.Out of the jobs advertised for VFX artists, a majority at any given time specify a bachelor’s degree as a minimum requirement for applicants.;\n",
            ", Some studios offer short-term programs for people who want to learn more about VFX artistry without pursuing a college degree. Enrolling in these programs can be expensive as financial aid isn’t always offered, but they usually have the most cutting edge technology for you to learn from., Although you may create some hand sketches, the majority of your work will be completed on the computer using the most up-to-date programs. Stay informed about the newest software advances by following VFX blogs and taking online computer tutorials.For example, VFX artists are expected to be well-versed in graphics and animation programs, such as Adobe Creative Suite and JavaScript.Clearly list every program that you can work with on your resume.\n",
            " Hop onto YouTube or another video service and search for VFX clip reels or demonstrations. Some of these videos will focus on a particular skill set, such as shading, which you then can practice on your own. Challenge yourself to mimic some of the more difficult tasks, or even try to improve upon the models used., Take as many art and design classes as you can. Or, simply carry a sketch pad around with you to work on your basic animation skills. As you draw, consider factors such as lighting and framing. Even geometry skills can come in handy when creating a particular type of background or even a person’s face.Make a choice to become an observer of the world around you. Ask yourself: how could I capture the movement of the leaves? Or, in what situations do shadows appear?\n",
            "\n",
            ", Watch all of these creations with an eye for detail. Look for the techniques used and any original approaches that you see. Try to recreate any scenes that you find particularly interesting. Research the artists and see what their backgrounds are and contact them if you like., As you gain more experience, you’ll likely find yourself gravitating toward a certain aspect of design. This will become your “calling card” and directors and other professionals will seek you out for this type of work. To build your specialization, start choosing jobs with that emphasis and attend additional training seminars.For example, some VFX specialists focus on human character’s faces, animal figures, or city backgrounds.\n"
          ],
          "name": "stdout"
        }
      ]
    },
    {
      "cell_type": "code",
      "metadata": {
        "ExecuteTime": {
          "end_time": "2020-09-01T13:44:38.775524Z",
          "start_time": "2020-09-01T13:44:38.771923Z"
        },
        "id": "MtsTva9sLw1N",
        "colab": {
          "base_uri": "https://localhost:8080/"
        },
        "outputId": "10e60606-92b5-47a3-cefa-b7c5d293e602"
      },
      "source": [
        "print(\" Example of Summary: \", dataset['train'][0]['headline'])"
      ],
      "execution_count": null,
      "outputs": [
        {
          "output_type": "stream",
          "text": [
            " Example of Summary:  Keep related supplies in the same area.\n",
            "Make an effort to clean a dedicated workspace after every session.\n",
            "Place loose supplies in large, clearly visible containers.\n",
            "Use clotheslines and clips to hang sketches, photos, and reference material.\n",
            "Use every inch of the room for storage, especially vertical space.\n",
            "Use chalkboard paint to make space for drafting ideas right on the walls.\n",
            "Purchase a label maker to make your organization strategy semi-permanent.\n",
            "Make a habit of throwing out old, excess, or useless stuff each month.\n"
          ],
          "name": "stdout"
        }
      ]
    },
    {
      "cell_type": "code",
      "metadata": {
        "ExecuteTime": {
          "end_time": "2020-09-01T13:44:38.780418Z",
          "start_time": "2020-09-01T13:44:38.776344Z"
        },
        "id": "v3MUea_qLw1O",
        "colab": {
          "base_uri": "https://localhost:8080/"
        },
        "outputId": "14bb980b-02b7-4882-b4b5-0bf2b5bc27ea"
      },
      "source": [
        "print(\" Example of Title: \", dataset['train'][0]['title'])"
      ],
      "execution_count": null,
      "outputs": [
        {
          "output_type": "stream",
          "text": [
            " Example of Title:  How to Be an Organized Artist1\n"
          ],
          "name": "stdout"
        }
      ]
    },
    {
      "cell_type": "markdown",
      "metadata": {
        "id": "wHr9bEQ1Lw1O"
      },
      "source": [
        "### Data Analysis"
      ]
    },
    {
      "cell_type": "code",
      "metadata": {
        "ExecuteTime": {
          "end_time": "2020-09-01T13:44:38.785557Z",
          "start_time": "2020-09-01T13:44:38.781468Z"
        },
        "id": "TNS0y7WjLw1O"
      },
      "source": [
        "tiny_dataset = dataset['train'].select(list(range(0, 100)))\n",
        "text_len = []\n",
        "summary_len=[]"
      ],
      "execution_count": null,
      "outputs": []
    },
    {
      "cell_type": "code",
      "metadata": {
        "ExecuteTime": {
          "end_time": "2020-09-01T13:44:38.801235Z",
          "start_time": "2020-09-01T13:44:38.786503Z"
        },
        "id": "i5nrENt3Lw1P"
      },
      "source": [
        "for i in range(len(tiny_dataset)):\n",
        "    example = tiny_dataset[i]\n",
        "    text_example = example['text']\n",
        "    text_example = text_example.replace('\\n','')\n",
        "    text_words = text_example.split()\n",
        "    text_len.append(len(text_words))\n",
        "    summary_example = example['headline']\n",
        "    summary_example = summary_example.replace('\\n','')\n",
        "    summary_words = summary_example.split()\n",
        "    summary_len.append(len(summary_words))"
      ],
      "execution_count": null,
      "outputs": []
    },
    {
      "cell_type": "code",
      "metadata": {
        "ExecuteTime": {
          "end_time": "2020-09-02T18:46:50.185114Z",
          "start_time": "2020-09-02T18:46:50.047191Z"
        },
        "id": "Ov-iWmdTLw1P",
        "colab": {
          "base_uri": "https://localhost:8080/",
          "height": 402
        },
        "outputId": "82f8aada-c17a-4c59-eef4-c6b5aa62a26a"
      },
      "source": [
        "\n",
        "sns.histplot(text_len,bins=20)\n",
        "plt.title('Text Length Distribution - First 100 examples')\n",
        "plt.show()"
      ],
      "execution_count": null,
      "outputs": [
        {
          "output_type": "display_data",
          "data": {
            "image/png": "[encoded data removed]",
            "text/plain": [
              "<Figure size 864x432 with 1 Axes>"
            ]
          },
          "metadata": {
            "tags": []
          }
        }
      ]
    },
    {
      "cell_type": "code",
      "metadata": {
        "ExecuteTime": {
          "end_time": "2020-09-02T18:47:08.641831Z",
          "start_time": "2020-09-02T18:47:08.524395Z"
        },
        "id": "fdPzI6TYLw1P",
        "colab": {
          "base_uri": "https://localhost:8080/",
          "height": 402
        },
        "outputId": "8ecce1e6-65d2-45c8-82e2-cc22f0173160"
      },
      "source": [
        "plt.hist(summary_len)\n",
        "plt.title('Summary Length Distribution - First 100 examples')\n",
        "plt.show()"
      ],
      "execution_count": null,
      "outputs": [
        {
          "output_type": "display_data",
          "data": {
            "image/png": "[encoded data removed]",
            "text/plain": [
              "<Figure size 864x432 with 1 Axes>"
            ]
          },
          "metadata": {
            "tags": []
          }
        }
      ]
    },
    {
      "cell_type": "code",
      "metadata": {
        "ExecuteTime": {
          "end_time": "2020-09-01T13:44:39.138817Z",
          "start_time": "2020-09-01T13:44:39.136486Z"
        },
        "id": "0ZnZkgz3Lw1P",
        "colab": {
          "base_uri": "https://localhost:8080/"
        },
        "outputId": "a5dd6bce-da92-4ca8-d06f-3355b4bb00b4"
      },
      "source": [
        "print(\"Average Length of text: \", sum(text_len)/len(text_len))"
      ],
      "execution_count": null,
      "outputs": [
        {
          "output_type": "stream",
          "text": [
            "Average Length of text:  662.69\n"
          ],
          "name": "stdout"
        }
      ]
    },
    {
      "cell_type": "code",
      "metadata": {
        "ExecuteTime": {
          "end_time": "2020-09-01T13:44:39.143573Z",
          "start_time": "2020-09-01T13:44:39.139797Z"
        },
        "id": "8PZ0FTKBLw1Q",
        "colab": {
          "base_uri": "https://localhost:8080/"
        },
        "outputId": "691d5f95-889b-41fb-e17e-b5b5a5b97221"
      },
      "source": [
        "print(\"Average Length of Summary: \", sum(summary_len)/len(summary_len))"
      ],
      "execution_count": null,
      "outputs": [
        {
          "output_type": "stream",
          "text": [
            "Average Length of Summary:  48.8\n"
          ],
          "name": "stdout"
        }
      ]
    },
    {
      "cell_type": "markdown",
      "metadata": {
        "id": "IxW32BPgLw1R"
      },
      "source": [
        "## Define Model"
      ]
    },
    {
      "cell_type": "code",
      "metadata": {
        "ExecuteTime": {
          "end_time": "2020-09-01T13:44:39.162456Z",
          "start_time": "2020-09-01T13:44:39.144570Z"
        },
        "id": "eQ1He-lWLw1R"
      },
      "source": [
        "def set_seed(seed):\n",
        "    random.seed(seed)\n",
        "    np.random.seed(seed)\n",
        "    torch.manual_seed(seed)\n",
        "    if torch.cuda.is_available():\n",
        "        torch.cuda.manual_seed_all(seed)\n",
        "\n",
        "set_seed(42)"
      ],
      "execution_count": null,
      "outputs": []
    },
    {
      "cell_type": "code",
      "metadata": {
        "ExecuteTime": {
          "end_time": "2020-09-01T13:44:39.185299Z",
          "start_time": "2020-09-01T13:44:39.163413Z"
        },
        "id": "_iG9er-kLw1R"
      },
      "source": [
        "class T5FineTuner(pl.LightningModule):\n",
        "    def __init__(self, hparams):\n",
        "        super(T5FineTuner, self).__init__()\n",
        "        self.hparams = hparams        \n",
        "        self.model = T5ForConditionalGeneration.from_pretrained(hparams.model_name_or_path)\n",
        "        self.tokenizer = T5Tokenizer.from_pretrained(hparams.tokenizer_name_or_path)\n",
        "        self.rouge_metric = load_metric('rouge') \n",
        "        \n",
        "        if self.hparams.freeze_embeds:\n",
        "            self.freeze_embeds()\n",
        "        if self.hparams.freeze_encoder:\n",
        "            self.freeze_params(self.model.get_encoder())\n",
        "            assert_all_frozen(self.model.get_encoder())\n",
        "            \n",
        "            \n",
        "        n_observations_per_split = {\n",
        "            \"train\": self.hparams.n_train,\n",
        "            \"validation\": self.hparams.n_val,\n",
        "            \"test\": self.hparams.n_test,\n",
        "        }\n",
        "        self.n_obs = {k: v if v >= 0 else None for k, v in n_observations_per_split.items()}\n",
        "        \n",
        "    \n",
        "    def freeze_params(self, model):\n",
        "        for par in model.parameters():\n",
        "            par.requires_grad = False\n",
        "            \n",
        "            \n",
        "    def freeze_embeds(self):\n",
        "        \"\"\"Freeze token embeddings and positional embeddings for bart, just token embeddings for t5.\"\"\"\n",
        "        try:\n",
        "            self.freeze_params(self.model.model.shared)\n",
        "            for d in [self.model.model.encoder, self.model.model.decoder]:\n",
        "                freeze_params(d.embed_positions)\n",
        "                freeze_params(d.embed_tokens)\n",
        "        except AttributeError:\n",
        "            self.freeze_params(self.model.shared)\n",
        "            for d in [self.model.encoder, self.model.decoder]:\n",
        "                self.freeze_params(d.embed_tokens)\n",
        "    \n",
        "    def lmap(self, f, x):\n",
        "        \"\"\"list(map(f, x))\"\"\"\n",
        "        return list(map(f, x))\n",
        "    \n",
        "\n",
        "    def is_logger(self):\n",
        "        return self.trainer.proc_rank <= 0\n",
        "    \n",
        "    \n",
        "    def parse_score(self, result):\n",
        "        return {k: round(v.mid.fmeasure * 100, 4) for k, v in result.items()}\n",
        "        \n",
        "    def forward(\n",
        "      self, input_ids, attention_mask=None, decoder_input_ids=None, decoder_attention_mask=None, lm_labels=None\n",
        "  ):\n",
        "        return self.model(\n",
        "            input_ids,\n",
        "            attention_mask=attention_mask,\n",
        "            decoder_input_ids=decoder_input_ids,\n",
        "            decoder_attention_mask=decoder_attention_mask,\n",
        "            lm_labels=lm_labels,\n",
        "    )\n",
        "\n",
        "    def _step(self, batch):\n",
        "        lm_labels = batch[\"target_ids\"]\n",
        "        lm_labels[lm_labels[:, :] == self.tokenizer.pad_token_id] = -100\n",
        "\n",
        "        outputs = self(\n",
        "            input_ids=batch[\"source_ids\"],\n",
        "            attention_mask=batch[\"source_mask\"],\n",
        "            lm_labels=lm_labels,\n",
        "            decoder_attention_mask=batch['target_mask']\n",
        "        )\n",
        "\n",
        "        loss = outputs[0]\n",
        "\n",
        "        return loss\n",
        "    \n",
        "    \n",
        "    def ids_to_clean_text(self, generated_ids):\n",
        "        gen_text = self.tokenizer.batch_decode(\n",
        "            generated_ids, skip_special_tokens=True, clean_up_tokenization_spaces=True\n",
        "        )\n",
        "        return self.lmap(str.strip, gen_text)\n",
        "    \n",
        "    \n",
        "    def _generative_step(self, batch) :\n",
        "        \n",
        "        t0 = time.time()\n",
        "        \n",
        "        generated_ids = self.model.generate(\n",
        "            batch[\"source_ids\"],\n",
        "            attention_mask=batch[\"source_mask\"],\n",
        "            use_cache=True,\n",
        "            decoder_attention_mask=batch['target_mask'],\n",
        "            max_length=150, \n",
        "            num_beams=2,\n",
        "            repetition_penalty=2.5, \n",
        "            length_penalty=1.0, \n",
        "            early_stopping=True\n",
        "        )\n",
        "        preds = self.ids_to_clean_text(generated_ids)\n",
        "        target = self.ids_to_clean_text(batch[\"target_ids\"])\n",
        "            \n",
        "        gen_time = (time.time() - t0) / batch[\"source_ids\"].shape[0]  \n",
        "    \n",
        "        loss = self._step(batch)\n",
        "        base_metrics = {'val_loss': loss}\n",
        "#         rouge: Dict = self.calc_generative_metrics(preds, target)\n",
        "        summ_len = np.mean(self.lmap(len, generated_ids))\n",
        "        base_metrics.update(gen_time=gen_time, gen_len=summ_len, preds=preds, target=target)\n",
        "        self.rouge_metric.add_batch(preds, target)\n",
        "        \n",
        "#         rouge_results = self.rouge_metric.compute() \n",
        "#         rouge_dict = self.parse_score(rouge_results)\n",
        "#         base_metrics.update(rouge1=rouge_dict['rouge1'], rougeL=rouge_dict['rougeL'])\n",
        "        \n",
        "        return base_metrics\n",
        "    \n",
        "\n",
        "    def training_step(self, batch, batch_idx):\n",
        "        loss = self._step(batch)\n",
        "\n",
        "        tensorboard_logs = {\"train_loss\": loss}\n",
        "        return {\"loss\": loss, \"log\": tensorboard_logs}\n",
        "  \n",
        "    def training_epoch_end(self, outputs):\n",
        "        avg_train_loss = torch.stack([x[\"loss\"] for x in outputs]).mean()\n",
        "        tensorboard_logs = {\"avg_train_loss\": avg_train_loss}\n",
        "        return {\"avg_train_loss\": avg_train_loss, \"log\": tensorboard_logs, 'progress_bar': tensorboard_logs}\n",
        "\n",
        "    def validation_step(self, batch, batch_idx):\n",
        "        return self._generative_step(batch)\n",
        "    \n",
        "  \n",
        "    def validation_epoch_end(self, outputs):\n",
        "        \n",
        "        avg_loss = torch.stack([x[\"val_loss\"] for x in outputs]).mean()\n",
        "        tensorboard_logs = {\"val_loss\": avg_loss}\n",
        "        \n",
        "        rouge_results = self.rouge_metric.compute() \n",
        "        rouge_dict = self.parse_score(rouge_results)\n",
        "    \n",
        "        tensorboard_logs.update(rouge1=rouge_dict['rouge1'], rougeL=rouge_dict['rougeL'])\n",
        "        \n",
        "        ## Clear out the lists for next epoch\n",
        "        self.target_gen= []\n",
        "        self.prediction_gen=[]\n",
        "        return {\"avg_val_loss\": avg_loss, \n",
        "                \"rouge1\" : rouge_results['rouge1'],\n",
        "                \"rougeL\" : rouge_results['rougeL'],\n",
        "                \"log\": tensorboard_logs, 'progress_bar': tensorboard_logs}\n",
        "\n",
        "    def configure_optimizers(self):\n",
        "        \"Prepare optimizer and schedule (linear warmup and decay)\"\n",
        "\n",
        "        model = self.model\n",
        "        no_decay = [\"bias\", \"LayerNorm.weight\"]\n",
        "        optimizer_grouped_parameters = [\n",
        "            {\n",
        "                \"params\": [p for n, p in model.named_parameters() if not any(nd in n for nd in no_decay)],\n",
        "                \"weight_decay\": self.hparams.weight_decay,\n",
        "            },\n",
        "            {\n",
        "                \"params\": [p for n, p in model.named_parameters() if any(nd in n for nd in no_decay)],\n",
        "                \"weight_decay\": 0.0,\n",
        "            },\n",
        "        ]\n",
        "        optimizer = AdamW(optimizer_grouped_parameters, lr=self.hparams.learning_rate, eps=self.hparams.adam_epsilon)\n",
        "        self.opt = optimizer\n",
        "        return [optimizer]\n",
        "  \n",
        "    def optimizer_step(self, epoch, batch_idx, optimizer, optimizer_idx, second_order_closure=None, using_native_amp=False):\n",
        "        if self.trainer.use_tpu:\n",
        "            xm.optimizer_step(optimizer)\n",
        "        else:\n",
        "            optimizer.step()\n",
        "        optimizer.zero_grad()\n",
        "        self.lr_scheduler.step()\n",
        "  \n",
        "    def get_tqdm_dict(self):\n",
        "        tqdm_dict = {\"loss\": \"{:.3f}\".format(self.trainer.avg_loss), \"lr\": self.lr_scheduler.get_last_lr()[-1]}\n",
        "\n",
        "        return tqdm_dict\n",
        "    \n",
        "\n",
        "    def train_dataloader(self):   \n",
        "        n_samples = self.n_obs['train']\n",
        "        train_dataset = get_dataset(tokenizer=self.tokenizer, type_path=\"train\", num_samples=n_samples, args=self.hparams)\n",
        "        dataloader = DataLoader(train_dataset, batch_size=self.hparams.train_batch_size, drop_last=True, shuffle=True, num_workers=4)\n",
        "        t_total = (\n",
        "            (len(dataloader.dataset) // (self.hparams.train_batch_size * max(1, self.hparams.n_gpu)))\n",
        "            // self.hparams.gradient_accumulation_steps\n",
        "            * float(self.hparams.num_train_epochs)\n",
        "        )\n",
        "        scheduler = get_linear_schedule_with_warmup(\n",
        "            self.opt, num_warmup_steps=self.hparams.warmup_steps, num_training_steps=t_total\n",
        "        )\n",
        "        self.lr_scheduler = scheduler\n",
        "        return dataloader\n",
        "\n",
        "    def val_dataloader(self):\n",
        "        n_samples = self.n_obs['validation']\n",
        "        validation_dataset = get_dataset(tokenizer=self.tokenizer, type_path=\"validation\", num_samples=n_samples, args=self.hparams)\n",
        "        \n",
        "        return DataLoader(validation_dataset, batch_size=self.hparams.eval_batch_size, num_workers=4)\n",
        "    \n",
        "    \n",
        "    def test_dataloader(self):\n",
        "        n_samples = self.n_obs['test']\n",
        "        test_dataset = get_dataset(tokenizer=self.tokenizer, type_path=\"test\", num_samples=n_samples, args=self.hparams)\n",
        "        \n",
        "        return DataLoader(test_dataset, batch_size=self.hparams.eval_batch_size, num_workers=4)"
      ],
      "execution_count": null,
      "outputs": []
    },
    {
      "cell_type": "code",
      "metadata": {
        "ExecuteTime": {
          "end_time": "2020-09-01T13:44:39.192404Z",
          "start_time": "2020-09-01T13:44:39.186281Z"
        },
        "id": "lIjcAwwvLw1R"
      },
      "source": [
        "logger = logging.getLogger(__name__)\n",
        "\n",
        "class LoggingCallback(pl.Callback):\n",
        "    def on_validation_end(self, trainer, pl_module):\n",
        "        logger.info(\"***** Validation results *****\")\n",
        "        if pl_module.is_logger():\n",
        "            metrics = trainer.callback_metrics\n",
        "            # Log results\n",
        "            for key in sorted(metrics):\n",
        "                if key not in [\"log\", \"progress_bar\"]:\n",
        "                    logger.info(\"{} = {}\\n\".format(key, str(metrics[key])))\n",
        "\n",
        "    def on_test_end(self, trainer, pl_module):\n",
        "        logger.info(\"***** Test results *****\")\n",
        "\n",
        "        if pl_module.is_logger():\n",
        "            metrics = trainer.callback_metrics\n",
        "\n",
        "            # Log and save results to file\n",
        "            output_test_results_file = os.path.join(pl_module.hparams.output_dir, \"test_results.txt\")\n",
        "            with open(output_test_results_file, \"w\") as writer:\n",
        "                for key in sorted(metrics):\n",
        "                    if key not in [\"log\", \"progress_bar\"]:\n",
        "                        logger.info(\"{} = {}\\n\".format(key, str(metrics[key])))\n",
        "                        writer.write(\"{} = {}\\n\".format(key, str(metrics[key])))"
      ],
      "execution_count": null,
      "outputs": []
    },
    {
      "cell_type": "markdown",
      "metadata": {
        "id": "miskCsmILw1S"
      },
      "source": [
        "## Dataset Loader"
      ]
    },
    {
      "cell_type": "code",
      "metadata": {
        "ExecuteTime": {
          "end_time": "2020-09-01T13:44:39.203467Z",
          "start_time": "2020-09-01T13:44:39.193447Z"
        },
        "id": "cqWaFhGhLw1S"
      },
      "source": [
        "class wikihow(Dataset):\n",
        "    def __init__(self, tokenizer, type_path, num_samples, input_length, output_length, print_text=False):         \n",
        "        self.dataset =  load_dataset('wikihow', 'all', data_dir='data/', split=type_path)\n",
        "        if num_samples:\n",
        "            self.dataset = self.dataset.select(list(range(0, num_samples)))\n",
        "        self.input_length = input_length\n",
        "        self.tokenizer = tokenizer\n",
        "        self.output_length = output_length\n",
        "        self.print_text = print_text\n",
        "  \n",
        "    def __len__(self):\n",
        "        return self.dataset.shape[0]\n",
        "    \n",
        "    def clean_text(self, text):\n",
        "        text = text.replace('Example of text:', '')\n",
        "        text = text.replace('Example of Summary:', '')\n",
        "        text = text.replace('\\n','')\n",
        "        text = text.replace('``', '')\n",
        "        text = text.replace('\"', '')\n",
        "        \n",
        "        return text\n",
        "    \n",
        "    \n",
        "    def convert_to_features(self, example_batch):\n",
        "        # Tokenize contexts and questions (as pairs of inputs)\n",
        "        \n",
        "        if self.print_text:\n",
        "            print(\"Input Text: \", self.clean_text(example_batch['text']))\n",
        "#         input_ = self.clean_text(example_batch['text']) + \" </s>\"\n",
        "#         target_ = self.clean_text(example_batch['headline']) + \" </s>\"\n",
        "        \n",
        "        input_ = self.clean_text(example_batch['text'])\n",
        "        target_ = self.clean_text(example_batch['headline'])\n",
        "        \n",
        "        source = self.tokenizer.batch_encode_plus([input_], max_length=self.input_length, \n",
        "                                                     padding='max_length', truncation=True, return_tensors=\"pt\")\n",
        "        \n",
        "        targets = self.tokenizer.batch_encode_plus([target_], max_length=self.output_length, \n",
        "                                                     padding='max_length', truncation=True, return_tensors=\"pt\")\n",
        "    \n",
        "       \n",
        "        return source, targets\n",
        "  \n",
        "    def __getitem__(self, index):\n",
        "        source, targets = self.convert_to_features(self.dataset[index])\n",
        "        \n",
        "        source_ids = source[\"input_ids\"].squeeze()\n",
        "        target_ids = targets[\"input_ids\"].squeeze()\n",
        "\n",
        "        src_mask    = source[\"attention_mask\"].squeeze()\n",
        "        target_mask = targets[\"attention_mask\"].squeeze()\n",
        "\n",
        "        return {\"source_ids\": source_ids, \"source_mask\": src_mask, \"target_ids\": target_ids, \"target_mask\": target_mask}\n",
        "        \n",
        "  "
      ],
      "execution_count": null,
      "outputs": []
    },
    {
      "cell_type": "markdown",
      "metadata": {
        "id": "LbIkhnLyLw1S"
      },
      "source": [
        "### Tokenizer\r\n"
      ]
    },
    {
      "cell_type": "code",
      "metadata": {
        "ExecuteTime": {
          "end_time": "2020-09-02T18:55:41.647100Z",
          "start_time": "2020-09-02T18:55:41.023703Z"
        },
        "id": "7euae470Lw1S",
        "colab": {
          "base_uri": "https://localhost:8080/"
        },
        "outputId": "a63e906a-b50e-478c-f31f-4fbba5592c4b"
      },
      "source": [
        "tokenizer = T5Tokenizer.from_pretrained('t5-small')\n",
        "dataset = wikihow(tokenizer, 'validation', None, 512, 150, True)\n",
        "len(dataset)"
      ],
      "execution_count": null,
      "outputs": [
        {
          "output_type": "execute_result",
          "data": {
            "text/plain": [
              "5599"
            ]
          },
          "metadata": {
            "tags": []
          },
          "execution_count": 19
        }
      ]
    },
    {
      "cell_type": "code",
      "metadata": {
        "ExecuteTime": {
          "end_time": "2020-09-02T18:55:43.381341Z",
          "start_time": "2020-09-02T18:55:43.366366Z"
        },
        "id": "00M8-VNKLw1T",
        "colab": {
          "base_uri": "https://localhost:8080/"
        },
        "outputId": "454b341e-030f-4f0f-bc5f-b39828aadf47"
      },
      "source": [
        "data = dataset[50]\n",
        "print()\n",
        "print(\"Shape of Tokenized Text: \", data['source_ids'].shape)\n",
        "print()\n",
        "print(\"Sanity check - Decode Text: \", tokenizer.decode(data['source_ids']))\n",
        "print(\"====================================\")\n",
        "print(\"Sanity check - Decode Summary: \", tokenizer.decode(data['target_ids']))"
      ],
      "execution_count": null,
      "outputs": [
        {
          "output_type": "stream",
          "text": [
            "\n",
            "Shape of Tokenized Text:  torch.Size([512])\n",
            "\n",
            "Sanity check - Decode Text:  For the first 3 weeks of life, feed them a starter diet that is 18-20% protein and consists of small pellets (about 1/8).Duck food can be bought at your local pet store. Some reputable manufacturers of duck food are Purina, Mazuri, or Gunter.Though chicken feed can be substituted for duck food, chicken feed should not be fed to ducklings.Once the ducklings reach 20 weeks of age, you can substitute duck food for chicken feed with the same amount of protein.;, Male and female ducks will both need the same amount of protein. Check the back of your duck food bag for nutritional information. You can begin to feed the female ducks this higher protein diet in the spring time, when they are likely to begin laying eggs. These treats should compromise no more than 15-20% of a duck’s diet. Cut all treats into small pieces. You can also let your duck graze outside, provided the area they are grazing has no pesticides or other toxic materials.Don’t season or cook these treats. Feed them raw.Bread, chocolate, onion, garlic, popcorn, avocados, and citrus fruits should not be fed to ducks. Remove the food at night so it does not begin to rot or attract ants and rats. Each duck will consume about 6-7 ounces of food per day, but bigger ducks may eat a bit more. Buying duck food in bulk will work for feeding large flocks, but for smaller flocks, buy small amounts of food frequently so they will have fresh food all the time. Moldy food can make ducks very sick.Store leftover duck food where it can keep dry. This water can be provided in a trough, an outdoor pond, or a shallow bucket. Any large, open container the ducks can fit their bill in will suffice. If you decide to use a watering system, such as those designed for chickens or turkeys, just make sure the ducks can reach the water.The water should always be clean, as ducks are especially prone to botulism.Change the water daily. Newborn ducks need to be kept at 86°F (30°C) for the first week and at 81°F (27°C) after that.After 4-6 weeks, ducks can regulate their temperature and no longer</s>\n",
            "====================================\n",
            "Sanity check - Decode Summary:  Feed ducklings and adolescent ducks a diet that is 18-20% protein.Young ducks grow quickly, and as a result, they need food that has a lot of protein and is high in calories.Feed ducks over the age of 3 weeks a diet that is 14% protein.Feed laying ducks a 16-17% protein diet that has 3-4% calcium.This amount of calcium is needed for laying ducks to make quality eggs.Offer occasional treats like corn, carrots, and greens like cucumber or broccoli.Provide food at all times during the day.Ducks should be allowed to graze freely on their</s>\n"
          ],
          "name": "stdout"
        }
      ]
    },
    {
      "cell_type": "markdown",
      "metadata": {
        "id": "Q5uE8bdgLw1T"
      },
      "source": [
        "## Hyperparameters"
      ]
    },
    {
      "cell_type": "code",
      "metadata": {
        "ExecuteTime": {
          "end_time": "2020-09-01T13:44:39.830252Z",
          "start_time": "2020-09-01T13:44:39.824446Z"
        },
        "id": "Us13swkbLw1T"
      },
      "source": [
        "args_dict = dict(\n",
        "    output_dir=\"/checkpoint\", # path to save the checkpoints\n",
        "    model_name_or_path='mrm8488/t5-base-finetuned-summarize-news',\n",
        "    tokenizer_name_or_path='mrm8488/t5-base-finetuned-summarize-news',\n",
        "    max_input_length=512,\n",
        "    max_output_length=150,\n",
        "    freeze_encoder=False,\n",
        "    freeze_embeds=False,\n",
        "    learning_rate=3e-4,\n",
        "    weight_decay=0.0,\n",
        "    adam_epsilon=1e-8,\n",
        "    warmup_steps=0,\n",
        "    train_batch_size=4,\n",
        "    eval_batch_size=4,\n",
        "    num_train_epochs=2,\n",
        "    gradient_accumulation_steps=8,\n",
        "    n_gpu=1,\n",
        "    resume_from_checkpoint=None, \n",
        "    val_check_interval = 0.05, \n",
        "    n_val=1000,\n",
        "    n_train=-1,\n",
        "    n_test=-1,\n",
        "    early_stop_callback=False,\n",
        "    fp_16=False, \n",
        "    opt_level='O1', \n",
        "    max_grad_norm=1.0, \n",
        "    seed=42,\n",
        ")"
      ],
      "execution_count": null,
      "outputs": []
    },
    {
      "cell_type": "code",
      "metadata": {
        "ExecuteTime": {
          "end_time": "2020-09-01T13:44:39.836856Z",
          "start_time": "2020-09-01T13:44:39.831154Z"
        },
        "id": "z44WXxV1Lw1V",
        "outputId": "0fcd32de-3c3d-461a-da91-b10114a0dd20"
      },
      "source": [
        "args_dict.update({'output_dir': 't5_wikihow', 'num_train_epochs':2,\n",
        "                 'train_batch_size': 4, 'eval_batch_size': 4})\n",
        "args = argparse.Namespace(**args_dict)\n",
        "print(args_dict)"
      ],
      "execution_count": null,
      "outputs": [
        {
          "output_type": "stream",
          "text": [
            "{'output_dir': 't5_wikihow', 'model_name_or_path': 't5-small', 'tokenizer_name_or_path': 't5-small', 'max_input_length': 512, 'max_output_length': 150, 'freeze_encoder': False, 'freeze_embeds': False, 'learning_rate': 0.0003, 'weight_decay': 0.0, 'adam_epsilon': 1e-08, 'warmup_steps': 0, 'train_batch_size': 4, 'eval_batch_size': 4, 'num_train_epochs': 2, 'gradient_accumulation_steps': 8, 'n_gpu': 1, 'resume_from_checkpoint': None, 'val_check_interval': 0.05, 'n_val': 1000, 'n_train': -1, 'n_test': -1, 'early_stop_callback': False, 'fp_16': False, 'opt_level': 'O1', 'max_grad_norm': 1.0, 'seed': 42}\n"
          ],
          "name": "stdout"
        }
      ]
    },
    {
      "cell_type": "code",
      "metadata": {
        "ExecuteTime": {
          "end_time": "2020-09-01T13:44:39.843602Z",
          "start_time": "2020-09-01T13:44:39.837733Z"
        },
        "id": "Vw3PW6BBLw1V"
      },
      "source": [
        "## Define Checkpoint function\n",
        "checkpoint_callback = pl.callbacks.ModelCheckpoint(\n",
        "    filepath=args.output_dir, prefix=\"checkpoint\", monitor=\"val_loss\", mode=\"min\", save_top_k=3\n",
        ")\n",
        "\n",
        "train_params = dict(\n",
        "    accumulate_grad_batches=args.gradient_accumulation_steps,\n",
        "    gpus=args.n_gpu,\n",
        "    max_epochs=args.num_train_epochs,\n",
        "    early_stop_callback=False,\n",
        "    precision= 16 if args.fp_16 else 32,\n",
        "    amp_level=args.opt_level,\n",
        "    resume_from_checkpoint=args.resume_from_checkpoint,\n",
        "    gradient_clip_val=args.max_grad_norm,\n",
        "    checkpoint_callback=checkpoint_callback,\n",
        "    val_check_interval=args.val_check_interval,\n",
        "    logger=wandb_logger,\n",
        "    callbacks=[LoggingCallback()],\n",
        ")"
      ],
      "execution_count": null,
      "outputs": []
    },
    {
      "cell_type": "code",
      "metadata": {
        "ExecuteTime": {
          "end_time": "2020-09-01T13:44:39.853037Z",
          "start_time": "2020-09-01T13:44:39.844578Z"
        },
        "id": "168WPs4GLw1V"
      },
      "source": [
        "def get_dataset(tokenizer, type_path, num_samples, args):\n",
        "      return wikihow(tokenizer=tokenizer, type_path=type_path, num_samples=num_samples,  input_length=args.max_input_length, \n",
        "                        output_length=args.max_output_length)"
      ],
      "execution_count": null,
      "outputs": []
    },
    {
      "cell_type": "markdown",
      "metadata": {
        "id": "C34o7CT5Lw1V"
      },
      "source": [
        "## Train Model"
      ]
    },
    {
      "cell_type": "code",
      "metadata": {
        "ExecuteTime": {
          "end_time": "2020-09-01T13:44:42.048444Z",
          "start_time": "2020-09-01T13:44:39.854009Z"
        },
        "id": "6-bpMnJoLw1V",
        "outputId": "3c27fd3c-ba8d-4295-ed3a-0e2bd07eb480"
      },
      "source": [
        "model = T5FineTuner(args)"
      ],
      "execution_count": null,
      "outputs": [
        {
          "output_type": "stream",
          "text": [
            "loading configuration file https://s3.amazonaws.com/models.huggingface.co/bert/t5-small-config.json from cache at /home/priya/.cache/torch/transformers/26561bc9e840d8945f475d0d4c4b9df32025eadd79894b867b570cb1d09e67a9.3817cc1260a6b941b17af62b4f2a942b9825f209d8e2eed99e79e96f85f59aab\n",
            "Model config T5Config {\n",
            "  \"architectures\": [\n",
            "    \"T5WithLMHeadModel\"\n",
            "  ],\n",
            "  \"d_ff\": 2048,\n",
            "  \"d_kv\": 64,\n",
            "  \"d_model\": 512,\n",
            "  \"decoder_start_token_id\": 0,\n",
            "  \"dropout_rate\": 0.1,\n",
            "  \"eos_token_id\": 1,\n",
            "  \"initializer_factor\": 1.0,\n",
            "  \"is_encoder_decoder\": true,\n",
            "  \"layer_norm_epsilon\": 1e-06,\n",
            "  \"model_type\": \"t5\",\n",
            "  \"n_positions\": 512,\n",
            "  \"num_heads\": 8,\n",
            "  \"num_layers\": 6,\n",
            "  \"output_past\": true,\n",
            "  \"pad_token_id\": 0,\n",
            "  \"relative_attention_num_buckets\": 32,\n",
            "  \"task_specific_params\": {\n",
            "    \"summarization\": {\n",
            "      \"early_stopping\": true,\n",
            "      \"length_penalty\": 2.0,\n",
            "      \"max_length\": 200,\n",
            "      \"min_length\": 30,\n",
            "      \"no_repeat_ngram_size\": 3,\n",
            "      \"num_beams\": 4,\n",
            "      \"prefix\": \"summarize: \"\n",
            "    },\n",
            "    \"translation_en_to_de\": {\n",
            "      \"early_stopping\": true,\n",
            "      \"max_length\": 300,\n",
            "      \"num_beams\": 4,\n",
            "      \"prefix\": \"translate English to German: \"\n",
            "    },\n",
            "    \"translation_en_to_fr\": {\n",
            "      \"early_stopping\": true,\n",
            "      \"max_length\": 300,\n",
            "      \"num_beams\": 4,\n",
            "      \"prefix\": \"translate English to French: \"\n",
            "    },\n",
            "    \"translation_en_to_ro\": {\n",
            "      \"early_stopping\": true,\n",
            "      \"max_length\": 300,\n",
            "      \"num_beams\": 4,\n",
            "      \"prefix\": \"translate English to Romanian: \"\n",
            "    }\n",
            "  },\n",
            "  \"vocab_size\": 32128\n",
            "}\n",
            "\n",
            "loading weights file https://cdn.huggingface.co/t5-small-pytorch_model.bin from cache at /home/priya/.cache/torch/transformers/9b662cba85524bef76fff5eb77d767407ac36f3fe492869331c011efd2b3a082.388aab7f5c8ed273dc71eb98334d76a3caf1b3280b476c1c77fba861c65445f3\n",
            "All model checkpoint weights were used when initializing T5ForConditionalGeneration.\n",
            "\n",
            "All the weights of T5ForConditionalGeneration were initialized from the model checkpoint at t5-small.\n",
            "If your task is similar to the task the model of the checkpoint was trained on, you can already use T5ForConditionalGeneration for predictions without further training.\n",
            "loading file https://s3.amazonaws.com/models.huggingface.co/bert/t5-spiece.model from cache at /home/priya/.cache/torch/transformers/68f1b8dbca4350743bb54b8c4169fd38cbabaad564f85a9239337a8d0342af9f.9995af32582a1a7062cb3173c118cb7b4636fa03feb967340f20fc37406f021f\n"
          ],
          "name": "stderr"
        }
      ]
    },
    {
      "cell_type": "code",
      "metadata": {
        "ExecuteTime": {
          "end_time": "2020-09-01T13:44:42.072260Z",
          "start_time": "2020-09-01T13:44:42.053193Z"
        },
        "id": "3imsUBGsLw1W",
        "outputId": "679b20ed-71ca-4c88-e201-e6930f9f2748"
      },
      "source": [
        "trainer = pl.Trainer(**train_params)"
      ],
      "execution_count": null,
      "outputs": [
        {
          "output_type": "stream",
          "text": [
            "GPU available: True, used: True\n",
            "TPU available: False, using: 0 TPU cores\n",
            "CUDA_VISIBLE_DEVICES: [0]\n"
          ],
          "name": "stderr"
        }
      ]
    },
    {
      "cell_type": "code",
      "metadata": {
        "ExecuteTime": {
          "end_time": "2020-09-01T20:25:25.960117Z",
          "start_time": "2020-09-01T13:44:42.076449Z"
        },
        "colab": {
          "referenced_widgets": [
            "",
            "de71250cecac4a50889869e9c25832a1"
          ]
        },
        "id": "pqYs4PLGLw1X",
        "outputId": "3fa94a54-b6d5-49ce-a256-0c01e06cf203"
      },
      "source": [
        "trainer.fit(model)"
      ],
      "execution_count": null,
      "outputs": [
        {
          "output_type": "display_data",
          "data": {
            "text/html": [
              "\n",
              "                Logging results to <a href=\"https://wandb.com\" target=\"_blank\">Weights & Biases</a> <a href=\"https://docs.wandb.com/integrations/jupyter.html\" target=\"_blank\">(Documentation)</a>.<br/>\n",
              "                Project page: <a href=\"https://app.wandb.ai/pdwivedi/wikohow-t5\" target=\"_blank\">https://app.wandb.ai/pdwivedi/wikohow-t5</a><br/>\n",
              "                Run page: <a href=\"https://app.wandb.ai/pdwivedi/wikohow-t5/runs/u67e9npf\" target=\"_blank\">https://app.wandb.ai/pdwivedi/wikohow-t5/runs/u67e9npf</a><br/>\n",
              "            "
            ],
            "text/plain": [
              "<IPython.core.display.HTML object>"
            ]
          },
          "metadata": {
            "tags": []
          }
        },
        {
          "output_type": "stream",
          "text": [
            "\u001b[34m\u001b[1mwandb\u001b[0m: Wandb version 0.9.6 is available!  To upgrade, please run:\n",
            "\u001b[34m\u001b[1mwandb\u001b[0m:  $ pip install wandb --upgrade\n",
            "\n",
            "  | Name  | Type                       | Params\n",
            "-----------------------------------------------------\n",
            "0 | model | T5ForConditionalGeneration | 60 M  \n"
          ],
          "name": "stderr"
        },
        {
          "output_type": "display_data",
          "data": {
            "application/vnd.jupyter.widget-view+json": {
              "model_id": "",
              "version_major": 2,
              "version_minor": 0
            },
            "text/plain": [
              "HBox(children=(FloatProgress(value=1.0, bar_style='info', description='Validation sanity check', layout=Layout…"
            ]
          },
          "metadata": {
            "tags": []
          }
        },
        {
          "output_type": "stream",
          "text": [
            "/home/priya/miniconda3/envs/huggingface/lib/python3.6/site-packages/transformers/modeling_t5.py:1125: FutureWarning: The `lm_labels` argument is deprecated and will be removed in a future version, use `labels` instead.\n",
            "  FutureWarning,\n"
          ],
          "name": "stderr"
        },
        {
          "output_type": "display_data",
          "data": {
            "application/vnd.jupyter.widget-view+json": {
              "model_id": "de71250cecac4a50889869e9c25832a1",
              "version_major": 2,
              "version_minor": 0
            },
            "text/plain": [
              "HBox(children=(FloatProgress(value=1.0, bar_style='info', description='Training', layout=Layout(flex='2'), max…"
            ]
          },
          "metadata": {
            "tags": []
          }
        },
        {
          "output_type": "display_data",
          "data": {
            "application/vnd.jupyter.widget-view+json": {
              "model_id": "",
              "version_major": 2,
              "version_minor": 0
            },
            "text/plain": [
              "HBox(children=(FloatProgress(value=1.0, bar_style='info', description='Validating', layout=Layout(flex='2'), m…"
            ]
          },
          "metadata": {
            "tags": []
          }
        },
        {
          "output_type": "display_data",
          "data": {
            "application/vnd.jupyter.widget-view+json": {
              "model_id": "",
              "version_major": 2,
              "version_minor": 0
            },
            "text/plain": [
              "HBox(children=(FloatProgress(value=1.0, bar_style='info', description='Validating', layout=Layout(flex='2'), m…"
            ]
          },
          "metadata": {
            "tags": []
          }
        },
        {
          "output_type": "display_data",
          "data": {
            "application/vnd.jupyter.widget-view+json": {
              "model_id": "",
              "version_major": 2,
              "version_minor": 0
            },
            "text/plain": [
              "HBox(children=(FloatProgress(value=1.0, bar_style='info', description='Validating', layout=Layout(flex='2'), m…"
            ]
          },
          "metadata": {
            "tags": []
          }
        },
        {
          "output_type": "display_data",
          "data": {
            "application/vnd.jupyter.widget-view+json": {
              "model_id": "",
              "version_major": 2,
              "version_minor": 0
            },
            "text/plain": [
              "HBox(children=(FloatProgress(value=1.0, bar_style='info', description='Validating', layout=Layout(flex='2'), m…"
            ]
          },
          "metadata": {
            "tags": []
          }
        },
        {
          "output_type": "display_data",
          "data": {
            "application/vnd.jupyter.widget-view+json": {
              "model_id": "",
              "version_major": 2,
              "version_minor": 0
            },
            "text/plain": [
              "HBox(children=(FloatProgress(value=1.0, bar_style='info', description='Validating', layout=Layout(flex='2'), m…"
            ]
          },
          "metadata": {
            "tags": []
          }
        },
        {
          "output_type": "display_data",
          "data": {
            "application/vnd.jupyter.widget-view+json": {
              "model_id": "",
              "version_major": 2,
              "version_minor": 0
            },
            "text/plain": [
              "HBox(children=(FloatProgress(value=1.0, bar_style='info', description='Validating', layout=Layout(flex='2'), m…"
            ]
          },
          "metadata": {
            "tags": []
          }
        },
        {
          "output_type": "display_data",
          "data": {
            "application/vnd.jupyter.widget-view+json": {
              "model_id": "",
              "version_major": 2,
              "version_minor": 0
            },
            "text/plain": [
              "HBox(children=(FloatProgress(value=1.0, bar_style='info', description='Validating', layout=Layout(flex='2'), m…"
            ]
          },
          "metadata": {
            "tags": []
          }
        },
        {
          "output_type": "display_data",
          "data": {
            "application/vnd.jupyter.widget-view+json": {
              "model_id": "",
              "version_major": 2,
              "version_minor": 0
            },
            "text/plain": [
              "HBox(children=(FloatProgress(value=1.0, bar_style='info', description='Validating', layout=Layout(flex='2'), m…"
            ]
          },
          "metadata": {
            "tags": []
          }
        },
        {
          "output_type": "display_data",
          "data": {
            "application/vnd.jupyter.widget-view+json": {
              "model_id": "",
              "version_major": 2,
              "version_minor": 0
            },
            "text/plain": [
              "HBox(children=(FloatProgress(value=1.0, bar_style='info', description='Validating', layout=Layout(flex='2'), m…"
            ]
          },
          "metadata": {
            "tags": []
          }
        },
        {
          "output_type": "display_data",
          "data": {
            "application/vnd.jupyter.widget-view+json": {
              "model_id": "",
              "version_major": 2,
              "version_minor": 0
            },
            "text/plain": [
              "HBox(children=(FloatProgress(value=1.0, bar_style='info', description='Validating', layout=Layout(flex='2'), m…"
            ]
          },
          "metadata": {
            "tags": []
          }
        },
        {
          "output_type": "display_data",
          "data": {
            "application/vnd.jupyter.widget-view+json": {
              "model_id": "",
              "version_major": 2,
              "version_minor": 0
            },
            "text/plain": [
              "HBox(children=(FloatProgress(value=1.0, bar_style='info', description='Validating', layout=Layout(flex='2'), m…"
            ]
          },
          "metadata": {
            "tags": []
          }
        },
        {
          "output_type": "display_data",
          "data": {
            "application/vnd.jupyter.widget-view+json": {
              "model_id": "",
              "version_major": 2,
              "version_minor": 0
            },
            "text/plain": [
              "HBox(children=(FloatProgress(value=1.0, bar_style='info', description='Validating', layout=Layout(flex='2'), m…"
            ]
          },
          "metadata": {
            "tags": []
          }
        },
        {
          "output_type": "display_data",
          "data": {
            "application/vnd.jupyter.widget-view+json": {
              "model_id": "",
              "version_major": 2,
              "version_minor": 0
            },
            "text/plain": [
              "HBox(children=(FloatProgress(value=1.0, bar_style='info', description='Validating', layout=Layout(flex='2'), m…"
            ]
          },
          "metadata": {
            "tags": []
          }
        },
        {
          "output_type": "display_data",
          "data": {
            "application/vnd.jupyter.widget-view+json": {
              "model_id": "",
              "version_major": 2,
              "version_minor": 0
            },
            "text/plain": [
              "HBox(children=(FloatProgress(value=1.0, bar_style='info', description='Validating', layout=Layout(flex='2'), m…"
            ]
          },
          "metadata": {
            "tags": []
          }
        },
        {
          "output_type": "display_data",
          "data": {
            "application/vnd.jupyter.widget-view+json": {
              "model_id": "",
              "version_major": 2,
              "version_minor": 0
            },
            "text/plain": [
              "HBox(children=(FloatProgress(value=1.0, bar_style='info', description='Validating', layout=Layout(flex='2'), m…"
            ]
          },
          "metadata": {
            "tags": []
          }
        },
        {
          "output_type": "display_data",
          "data": {
            "application/vnd.jupyter.widget-view+json": {
              "model_id": "",
              "version_major": 2,
              "version_minor": 0
            },
            "text/plain": [
              "HBox(children=(FloatProgress(value=1.0, bar_style='info', description='Validating', layout=Layout(flex='2'), m…"
            ]
          },
          "metadata": {
            "tags": []
          }
        },
        {
          "output_type": "display_data",
          "data": {
            "application/vnd.jupyter.widget-view+json": {
              "model_id": "",
              "version_major": 2,
              "version_minor": 0
            },
            "text/plain": [
              "HBox(children=(FloatProgress(value=1.0, bar_style='info', description='Validating', layout=Layout(flex='2'), m…"
            ]
          },
          "metadata": {
            "tags": []
          }
        },
        {
          "output_type": "display_data",
          "data": {
            "application/vnd.jupyter.widget-view+json": {
              "model_id": "",
              "version_major": 2,
              "version_minor": 0
            },
            "text/plain": [
              "HBox(children=(FloatProgress(value=1.0, bar_style='info', description='Validating', layout=Layout(flex='2'), m…"
            ]
          },
          "metadata": {
            "tags": []
          }
        },
        {
          "output_type": "display_data",
          "data": {
            "application/vnd.jupyter.widget-view+json": {
              "model_id": "",
              "version_major": 2,
              "version_minor": 0
            },
            "text/plain": [
              "HBox(children=(FloatProgress(value=1.0, bar_style='info', description='Validating', layout=Layout(flex='2'), m…"
            ]
          },
          "metadata": {
            "tags": []
          }
        },
        {
          "output_type": "display_data",
          "data": {
            "application/vnd.jupyter.widget-view+json": {
              "model_id": "",
              "version_major": 2,
              "version_minor": 0
            },
            "text/plain": [
              "HBox(children=(FloatProgress(value=1.0, bar_style='info', description='Validating', layout=Layout(flex='2'), m…"
            ]
          },
          "metadata": {
            "tags": []
          }
        },
        {
          "output_type": "display_data",
          "data": {
            "application/vnd.jupyter.widget-view+json": {
              "model_id": "",
              "version_major": 2,
              "version_minor": 0
            },
            "text/plain": [
              "HBox(children=(FloatProgress(value=1.0, bar_style='info', description='Validating', layout=Layout(flex='2'), m…"
            ]
          },
          "metadata": {
            "tags": []
          }
        },
        {
          "output_type": "display_data",
          "data": {
            "application/vnd.jupyter.widget-view+json": {
              "model_id": "",
              "version_major": 2,
              "version_minor": 0
            },
            "text/plain": [
              "HBox(children=(FloatProgress(value=1.0, bar_style='info', description='Validating', layout=Layout(flex='2'), m…"
            ]
          },
          "metadata": {
            "tags": []
          }
        },
        {
          "output_type": "display_data",
          "data": {
            "application/vnd.jupyter.widget-view+json": {
              "model_id": "",
              "version_major": 2,
              "version_minor": 0
            },
            "text/plain": [
              "HBox(children=(FloatProgress(value=1.0, bar_style='info', description='Validating', layout=Layout(flex='2'), m…"
            ]
          },
          "metadata": {
            "tags": []
          }
        },
        {
          "output_type": "display_data",
          "data": {
            "application/vnd.jupyter.widget-view+json": {
              "model_id": "",
              "version_major": 2,
              "version_minor": 0
            },
            "text/plain": [
              "HBox(children=(FloatProgress(value=1.0, bar_style='info', description='Validating', layout=Layout(flex='2'), m…"
            ]
          },
          "metadata": {
            "tags": []
          }
        },
        {
          "output_type": "display_data",
          "data": {
            "application/vnd.jupyter.widget-view+json": {
              "model_id": "",
              "version_major": 2,
              "version_minor": 0
            },
            "text/plain": [
              "HBox(children=(FloatProgress(value=1.0, bar_style='info', description='Validating', layout=Layout(flex='2'), m…"
            ]
          },
          "metadata": {
            "tags": []
          }
        },
        {
          "output_type": "display_data",
          "data": {
            "application/vnd.jupyter.widget-view+json": {
              "model_id": "",
              "version_major": 2,
              "version_minor": 0
            },
            "text/plain": [
              "HBox(children=(FloatProgress(value=1.0, bar_style='info', description='Validating', layout=Layout(flex='2'), m…"
            ]
          },
          "metadata": {
            "tags": []
          }
        },
        {
          "output_type": "display_data",
          "data": {
            "application/vnd.jupyter.widget-view+json": {
              "model_id": "",
              "version_major": 2,
              "version_minor": 0
            },
            "text/plain": [
              "HBox(children=(FloatProgress(value=1.0, bar_style='info', description='Validating', layout=Layout(flex='2'), m…"
            ]
          },
          "metadata": {
            "tags": []
          }
        },
        {
          "output_type": "display_data",
          "data": {
            "application/vnd.jupyter.widget-view+json": {
              "model_id": "",
              "version_major": 2,
              "version_minor": 0
            },
            "text/plain": [
              "HBox(children=(FloatProgress(value=1.0, bar_style='info', description='Validating', layout=Layout(flex='2'), m…"
            ]
          },
          "metadata": {
            "tags": []
          }
        },
        {
          "output_type": "display_data",
          "data": {
            "application/vnd.jupyter.widget-view+json": {
              "model_id": "",
              "version_major": 2,
              "version_minor": 0
            },
            "text/plain": [
              "HBox(children=(FloatProgress(value=1.0, bar_style='info', description='Validating', layout=Layout(flex='2'), m…"
            ]
          },
          "metadata": {
            "tags": []
          }
        },
        {
          "output_type": "display_data",
          "data": {
            "application/vnd.jupyter.widget-view+json": {
              "model_id": "",
              "version_major": 2,
              "version_minor": 0
            },
            "text/plain": [
              "HBox(children=(FloatProgress(value=1.0, bar_style='info', description='Validating', layout=Layout(flex='2'), m…"
            ]
          },
          "metadata": {
            "tags": []
          }
        },
        {
          "output_type": "display_data",
          "data": {
            "application/vnd.jupyter.widget-view+json": {
              "model_id": "",
              "version_major": 2,
              "version_minor": 0
            },
            "text/plain": [
              "HBox(children=(FloatProgress(value=1.0, bar_style='info', description='Validating', layout=Layout(flex='2'), m…"
            ]
          },
          "metadata": {
            "tags": []
          }
        },
        {
          "output_type": "display_data",
          "data": {
            "application/vnd.jupyter.widget-view+json": {
              "model_id": "",
              "version_major": 2,
              "version_minor": 0
            },
            "text/plain": [
              "HBox(children=(FloatProgress(value=1.0, bar_style='info', description='Validating', layout=Layout(flex='2'), m…"
            ]
          },
          "metadata": {
            "tags": []
          }
        },
        {
          "output_type": "display_data",
          "data": {
            "application/vnd.jupyter.widget-view+json": {
              "model_id": "",
              "version_major": 2,
              "version_minor": 0
            },
            "text/plain": [
              "HBox(children=(FloatProgress(value=1.0, bar_style='info', description='Validating', layout=Layout(flex='2'), m…"
            ]
          },
          "metadata": {
            "tags": []
          }
        },
        {
          "output_type": "display_data",
          "data": {
            "application/vnd.jupyter.widget-view+json": {
              "model_id": "",
              "version_major": 2,
              "version_minor": 0
            },
            "text/plain": [
              "HBox(children=(FloatProgress(value=1.0, bar_style='info', description='Validating', layout=Layout(flex='2'), m…"
            ]
          },
          "metadata": {
            "tags": []
          }
        },
        {
          "output_type": "display_data",
          "data": {
            "application/vnd.jupyter.widget-view+json": {
              "model_id": "",
              "version_major": 2,
              "version_minor": 0
            },
            "text/plain": [
              "HBox(children=(FloatProgress(value=1.0, bar_style='info', description='Validating', layout=Layout(flex='2'), m…"
            ]
          },
          "metadata": {
            "tags": []
          }
        },
        {
          "output_type": "display_data",
          "data": {
            "application/vnd.jupyter.widget-view+json": {
              "model_id": "",
              "version_major": 2,
              "version_minor": 0
            },
            "text/plain": [
              "HBox(children=(FloatProgress(value=1.0, bar_style='info', description='Validating', layout=Layout(flex='2'), m…"
            ]
          },
          "metadata": {
            "tags": []
          }
        },
        {
          "output_type": "display_data",
          "data": {
            "application/vnd.jupyter.widget-view+json": {
              "model_id": "",
              "version_major": 2,
              "version_minor": 0
            },
            "text/plain": [
              "HBox(children=(FloatProgress(value=1.0, bar_style='info', description='Validating', layout=Layout(flex='2'), m…"
            ]
          },
          "metadata": {
            "tags": []
          }
        },
        {
          "output_type": "display_data",
          "data": {
            "application/vnd.jupyter.widget-view+json": {
              "model_id": "",
              "version_major": 2,
              "version_minor": 0
            },
            "text/plain": [
              "HBox(children=(FloatProgress(value=1.0, bar_style='info', description='Validating', layout=Layout(flex='2'), m…"
            ]
          },
          "metadata": {
            "tags": []
          }
        },
        {
          "output_type": "display_data",
          "data": {
            "application/vnd.jupyter.widget-view+json": {
              "model_id": "",
              "version_major": 2,
              "version_minor": 0
            },
            "text/plain": [
              "HBox(children=(FloatProgress(value=1.0, bar_style='info', description='Validating', layout=Layout(flex='2'), m…"
            ]
          },
          "metadata": {
            "tags": []
          }
        },
        {
          "output_type": "display_data",
          "data": {
            "application/vnd.jupyter.widget-view+json": {
              "model_id": "",
              "version_major": 2,
              "version_minor": 0
            },
            "text/plain": [
              "HBox(children=(FloatProgress(value=1.0, bar_style='info', description='Validating', layout=Layout(flex='2'), m…"
            ]
          },
          "metadata": {
            "tags": []
          }
        },
        {
          "output_type": "stream",
          "text": [
            "Saving latest checkpoint..\n"
          ],
          "name": "stderr"
        },
        {
          "output_type": "stream",
          "text": [
            "\n"
          ],
          "name": "stdout"
        },
        {
          "output_type": "execute_result",
          "data": {
            "text/plain": [
              "1"
            ]
          },
          "metadata": {
            "tags": []
          },
          "execution_count": 31
        }
      ]
    },
    {
      "cell_type": "markdown",
      "metadata": {
        "id": "emFVV1IELw1X"
      },
      "source": [
        "## Check Model Predictions"
      ]
    },
    {
      "cell_type": "code",
      "metadata": {
        "ExecuteTime": {
          "end_time": "2020-09-02T00:59:41.863404Z",
          "start_time": "2020-09-02T00:59:41.859895Z"
        },
        "id": "kpRseXyILw1X"
      },
      "source": [
        "import textwrap\n",
        "from tqdm.auto import tqdm"
      ],
      "execution_count": null,
      "outputs": []
    },
    {
      "cell_type": "code",
      "metadata": {
        "ExecuteTime": {
          "end_time": "2020-09-02T01:00:09.047610Z",
          "start_time": "2020-09-02T01:00:08.417634Z"
        },
        "id": "2vGlhMEYLw1X",
        "colab": {
          "base_uri": "https://localhost:8080/",
          "height": 67,
          "referenced_widgets": [
            "d5b4a4866b684d6c9b076f5e95985bd9",
            "267fe3af99a04e71bfab1643ee10a349",
            "79fe8c24f0ca496b9a9174daa3eb8da6",
            "014b355871a246e081b96052f76c9dd1",
            "3ed256219d55494e9e65b8c103ccec3e",
            "55c9b22fbe7a4bcfb5adb931e46b815c",
            "884d4ecff28c454c95bc4152c97c0802",
            "094a063316ac44928534133d5d7eac1c"
          ]
        },
        "outputId": "d4e76bb5-eced-4c21-d39f-e0ef5ace2e68"
      },
      "source": [
        "tokenizer = T5Tokenizer.from_pretrained('t5-base')\n",
        "dataset = wikihow(tokenizer, 'test', None, 512, 150, False)"
      ],
      "execution_count": null,
      "outputs": [
        {
          "output_type": "display_data",
          "data": {
            "application/vnd.jupyter.widget-view+json": {
              "model_id": "d5b4a4866b684d6c9b076f5e95985bd9",
              "version_minor": 0,
              "version_major": 2
            },
            "text/plain": [
              "HBox(children=(FloatProgress(value=0.0, description='Downloading', max=791656.0, style=ProgressStyle(descripti…"
            ]
          },
          "metadata": {
            "tags": []
          }
        },
        {
          "output_type": "stream",
          "text": [
            "\n"
          ],
          "name": "stdout"
        }
      ]
    },
    {
      "cell_type": "code",
      "metadata": {
        "ExecuteTime": {
          "end_time": "2020-09-02T01:00:29.151446Z",
          "start_time": "2020-09-02T01:00:29.143943Z"
        },
        "id": "w2mPAifjLw1Y"
      },
      "source": [
        "loader = DataLoader(dataset, batch_size=32, shuffle=True)\n",
        "it = iter(loader)"
      ],
      "execution_count": null,
      "outputs": []
    },
    {
      "cell_type": "code",
      "metadata": {
        "ExecuteTime": {
          "end_time": "2020-09-02T01:00:34.602089Z",
          "start_time": "2020-09-02T01:00:34.443983Z"
        },
        "id": "HtvOES9lLw1Z",
        "outputId": "6c8d1b4f-e99f-49e4-b9c7-79b893f1061f"
      },
      "source": [
        "batch = next(it)\n",
        "batch[\"source_ids\"].shape"
      ],
      "execution_count": null,
      "outputs": [
        {
          "output_type": "execute_result",
          "data": {
            "text/plain": [
              "torch.Size([32, 512])"
            ]
          },
          "metadata": {
            "tags": []
          },
          "execution_count": 35
        }
      ]
    },
    {
      "cell_type": "code",
      "metadata": {
        "ExecuteTime": {
          "end_time": "2020-09-02T01:02:59.809227Z",
          "start_time": "2020-09-02T01:02:51.326688Z"
        },
        "id": "inSS8HsjLw1Z"
      },
      "source": [
        "model.to('cuda')\n",
        "outs = model.model.generate(\n",
        "            batch[\"source_ids\"].cuda(),\n",
        "            attention_mask=batch[\"source_mask\"].cuda(),\n",
        "            use_cache=True,\n",
        "            decoder_attention_mask=batch['target_mask'].cuda(),\n",
        "            max_length=150, \n",
        "            num_beams=2,\n",
        "            repetition_penalty=2.5, \n",
        "            length_penalty=1.0, \n",
        "            early_stopping=True\n",
        "        )\n",
        "\n",
        "dec = [tokenizer.decode(ids) for ids in outs]\n",
        "\n",
        "texts = [tokenizer.decode(ids) for ids in batch['source_ids']]\n",
        "targets = [tokenizer.decode(ids) for ids in batch['target_ids']]"
      ],
      "execution_count": null,
      "outputs": []
    },
    {
      "cell_type": "code",
      "metadata": {
        "ExecuteTime": {
          "end_time": "2020-09-02T01:03:57.193269Z",
          "start_time": "2020-09-02T01:03:57.138546Z"
        },
        "id": "78HDX8dzLw1a",
        "outputId": "0f31ac1d-1235-459c-d8d9-a25577f4c0ab"
      },
      "source": [
        "for i in range(32):\n",
        "    lines = textwrap.wrap(\"WikiHow Text:\\n%s\\n\" % texts[i], width=100)\n",
        "    print(\"\\n\".join(lines))\n",
        "    print(\"\\nActual Summary: %s\" % targets[i])\n",
        "    print(\"\\nPredicted Summary: %s\" % dec[i])\n",
        "    print(\"=====================================================================\\n\")"
      ],
      "execution_count": null,
      "outputs": [
        {
          "output_type": "stream",
          "text": [
            "WikiHow Text: Do this when they're just dried from dew but have not yet had the sun's heat on them.\n",
            "You'll need about 2 dozen leaves for this recipe.Wash, clean and dry as needed. Pack loosely. Cover\n",
            "the leaves and fill the jar about 4/5ths. Put the covered jar into the refrigerator for 24 hours to\n",
            "infuse. Leave as long as you like beyond this time, as the flavor will simply continue to intensify.\n",
            "Strain the basil leaves out when using the vodka. You can simply add them back to the unused vodka\n",
            "to keep infusing but don't include them in your cocktails or neat vodka drink as the flavors are now\n",
            "in the liquid.\n",
            "\n",
            "Actual Summary: Pick the basil leaves.Pack the basil leaves into a suitable clean jar.Pour your vodka of choice over the leaves.Seal.Use.\n",
            "\n",
            "Predicted Summary: Prepare the jar.Place the jar in the refrigerator.Add the leaves to the jar.Fill the jar.\n",
            "=====================================================================\n",
            "\n",
            "WikiHow Text: You'll find out why later. Just stay there for a second, and whatever you do, do NOT\n",
            "go into his space., Let the door close, leaving you safe, and leaving Sarge trapped with his\n",
            "minions., This is what you needed the whip for, and even though any other weapon works, this one's\n",
            "probably the easiest., Remember, Sarge only has three lives, so on your third hit, he'll fall,\n",
            "opening both doors for you., You defeated Sarge!\n",
            "\n",
            "Actual Summary: Choose a character with a whip.Once you open the doors to the area, go into the little space before the next door in the ring, right before you start.Right when you go through the door, go back into the little space again.Once he gets close enough, whip him.Stay there and keep hitting.Hooray!\n",
            "\n",
            "Predicted Summary: Get Sarge.Go to the door, and let him fall.Leave the door open for you.Get your gun.\n",
            "=====================================================================\n",
            "\n",
            "WikiHow Text: Use medium-density fiberboard (MDF), 54x72-inch piece of green felt, bottom of two\n",
            "five gallon buckets, deck baluster, composite wood balusters, 2 inch PVC elbow pipe, 3 inch PVC pipe\n",
            "fitting, plastic drop cloth, green welcome mat or artificial turf, spray adhesive, wood glue, and\n",
            "cyanoacrylate glue that you can purchase at your local hardware store. MDF is smooth and easy to\n",
            "work with as it is a perfect flat surface for a golf ball to roll on.You may need added material if\n",
            "you want to create elaborate obstacles such as water hazards. This design has rough and a loop-de-\n",
            "loop. Take your sheet of MDF and line up your deck balusters so they fit flush around the edges. Use\n",
            "a miter box and backsaw to cut the balusters to fit exactly, corner to corner., Use wood glue on\n",
            "each baluster as you line them up against the edges of your MDF. There should be a few inches of\n",
            "space between the lines of wood glue so that you may dab fast-setting cyanoacrylate.The\n",
            "cyanoacrylate acts to clamp the balusters as the wood glue dries so make sure the balusters are\n",
            "lined up correctly as the cyanoacrylate sets. Close to one end of your MDF panel, mark of your hole\n",
            "slightly off-center. Make a hole at this mark with a drill fitted with 4-inch hole saw. Flip the\n",
            "panel over once the drill has poked through and continue cutting the hole from the other side to\n",
            "prevent the MDF from splintering., Clamp your piece of felt on a worktable so that it slightly\n",
            "stretches. Away from the felt, lay your MDF on plastic drop cloth and spray it with adhesive. Use\n",
            "long, even strokes to spread the adhesive throughout the entire hoard. Use adhesive on the felt as\n",
            "well., Make sure the felt is smooth and place the MDF at the center of the felt. Be sure to turn the\n",
            "MDF over without letting it touch the felt until you are sure that it is in the correct position\n",
            "before pressing it down.The balusters on the bottom of the panel and the hole will need a spray of\n",
            "adhesive. Allow everything to dry. Cut excess felt with a utility knife and a framing square. Cut 1\n",
            "1 ⁇\n",
            "\n",
            "Actual Summary: Gather your materials.Lay out and cut baluster supports.Glue the baluster supports in place.Cut your hole.Apply adhesive to the MDF.Place the felt on the MDF panel.Cut the corners of the felt.Wrap the felt around the sides.Wrap the felt around the hole.Cut PVC pipe and finish the hole.Line the course.Create rough.Create a loop-de-loop.\n",
            "\n",
            "Predicted Summary: Choose a piece of MDF.Cut your deck balusters.Line up the deck balusters.Place the hole on the left side of the panel.Spread the felt over the felt.Dip the felt into the felt.Create a square.Remove the felt.\n",
            "=====================================================================\n",
            "\n",
            "WikiHow Text: Written language is the best system humans have ever devised for transmitting\n",
            "knowledge.Naturally, your teachers will want you to show what you’ve learned. In English and Social\n",
            "Studies classes, you do most of your learning by reading--so these are the most common classes to\n",
            "read aloud in. However, you can be asked to read something for the class in any subject, even gym.\n",
            "Try to accept this, and prepare for it instead of dreading it.;, The best way to look prepared is to\n",
            "be prepared. If you’ve read a passage even once, you’ll have a much better grasp of it than someone\n",
            "who’s never looked at it before. Better yet, read the passage through twice, reading quietly to\n",
            "yourself the second time, if you think you might be called on soon.Take good notes. You’ll retain\n",
            "information even better once you’ve written it down.Look up unfamiliar words. If you’re reading out\n",
            "loud and get stuck on a big word you didn’t know before, it can break your flow and mess up your\n",
            "confidence., If you have extra time one day, bring your textbook to the nearest reflective surface\n",
            "and read out loud to yourself. You’ll be able to check your own posture, and even practice looking\n",
            "up to make eye contact with yourself., If you have a study buddy, take turns reading important\n",
            "passages to one another. Take breaks to offer constructive feedback. Does your friend not know what\n",
            "to look for? Check in with these questions:Was your voice clear enough? Did it sound timid or\n",
            "confident?Does your body language help you seem more prepared? Are you slouching or standing\n",
            "tall?Were there any glaring mistakes (like skipped lines or extremely mispronounced words)?, Reading\n",
            "out loud can be stressful, and you probably want to do a good job. Still, no one expects you to\n",
            "sound like you’re part of the Royal Shakespeare Company. Don’t sweat it if you don’t sound flawless.\n",
            "Just do your best.\n",
            "\n",
            "Actual Summary: Know you’ll be called upon to read aloud at some point.Do your reading before class.Practice in the mirror.Practice on a friend.Don’t expect perfection.\n",
            "\n",
            "Predicted Summary: Learn to read aloud in.Be prepared.Read out loud.Take breaks.Do a good job.\n",
            "=====================================================================\n",
            "\n",
            "WikiHow Text: Go to your ticket confirmation or the airline website and look for domestic and\n",
            "international weight allowances. They usually run between $14 and $30. If you travel a lot, this is\n",
            "a great tool to avoid fees. Press the Power or On button. It should bring up a numbers or 0.0 lbs.\n",
            "reading. or kg. Most scales have options for both. The airlines will also list the weight\n",
            "restrictions in both units of measure. It should loop easily around the handle at the top of a\n",
            "standard piece of wheeled luggage. Don’t lift until you are ready to take a reading. It may beep to\n",
            "tell you it has a reading and you can check the reading after you have set the luggage down. On some\n",
            "less expensive scales, you need to read the weight as you lift. Reduce the number of things in your\n",
            "bag and repeat the process if you are overweight.\n",
            "\n",
            "Actual Summary: Research your luggage allowances before you weigh your bag.Purchase a handheld luggage scale from a travel store or an online retailer.Insert the required batteries into the back of the handheld scale.Select whether you want to use lbs.Attach the bottom strap or metal hook to the top of your luggage.Lift the bag for 5 to 10 seconds.Compare the weight with the luggage allowances for your flight.\n",
            "\n",
            "Predicted Summary: Go to the airline website.Turn on your weight allowances.Turn on a wheeled scale.Take a reading.\n",
            "=====================================================================\n",
            "\n",
            "WikiHow Text: By international law, you actually own the copyright to your song (or book, artwork,\n",
            "or other artistic creation) as soon as you create it. Your copyright is free and is automatic. The\n",
            "song must be “fixed” in some way, in a written down copy or a recording. You cannot have a copyright\n",
            "to a tune in your head that you do not write down or record in some fashion. You do not have to take\n",
            "any action to have this copyright. The actions that people refer to when they talk about\n",
            "“copyrighting a song” are steps to register and protect your copyright, which make it easier to\n",
            "prove that it is yours if some dispute arises., The word “copyright” is actually a single term that\n",
            "applies to several different rights that attach to a piece of music. If you are the original writer,\n",
            "singer, and recording artist, you may have all the copyrights to the song. But if you wrote a song\n",
            "and Taylor Swift recorded it, you would have the copyright to the written song, and she would have\n",
            "the copyright to her recorded version of it., Included in your bundle of rights are several separate\n",
            "rights or licenses. You can keep part of the copyright to yourself, and license away another part,\n",
            "for example. The different rights, broken into their separate parts, are:Public performing right. If\n",
            "you are the owner of a song, you have the right to control its performance or transmission in\n",
            "public.Public performing license. A license is a permission that can be granted to someone for a\n",
            "specific purpose. A public performing license is a permission that can be granted to someone else to\n",
            "perform your song. If you register your music through a publishing company like BMI, the company\n",
            "will manage public performing licenses for you.Reproduction right. As the owner of the copyright of\n",
            "a song, you control who may reproduce your song in a record, cassette, CD, online or any other\n",
            "format.Mechanical license. A mechanical license is a permission to someone to reproduce and\n",
            "distribute a specific composition at an agreed price. Signing a recording contract will involve a\n",
            "mechanical license.Synchronization license. A synchronization license is permission granted for the\n",
            "use of a song or recording to accompany a visual performance, such as background music for a movie,\n",
            "television show or video. If you have written a\n",
            "\n",
            "Actual Summary: Realize that you have a copyright automatically.Understand your “bundle of rights.” A copyright is not a single thing.Know the different rights involved with your copyright.Register with a licensing agency.Don't fall for the Poor Man's Copyright trick.Be willing to pay a bit to protect your copyright.Access the US Copyright Office website.Choose “New User” to create an account.Provide your address and telephone number.Read the warning notice about credit cards.Decide if you qualify for preregistration.Log in to eCO to preregister online.Enter your userid and password.S\n",
            "\n",
            "Predicted Summary: Create a copyright.Understand the word “copyright.” If you have written a song, it is important to know that your copyright is free and automatic.Write down your own copyright.Make sure that all of the rights you have are covered in the bundle of rights.Sign up for public performing licenses.\n",
            "=====================================================================\n",
            "\n",
            "WikiHow Text: Do this by entering your pass code. In case you’ve haven’t set any pass code to your\n",
            "Samsung Galaxy simply press the Power button and swipe the screen horizontally.The Power button is\n",
            "located at the top right edge of the Samsung Galaxy.;, To find the widget, touch and hold any blank\n",
            "area on the Home screen. Choose “Widgets” that appear in the bottom then tap on “Kids Mode.”Read the\n",
            "instructions shown there carefully. Do this by tapping the “OK” button. After the download is\n",
            "complete, tap the “Install” button that appears on the screen. Once the installation is complete,\n",
            "open the Kids Mode widget again (Step 2) from the list of available widgets. This is to ensure that\n",
            "your child cannot enter or exit the Kids Mode environment without your PIN.Tap on the “Set PIN” tab\n",
            "that appears at the bottom of the screen then set a 4-digit PIN.Enter the PIN again when prompted\n",
            "for confirmation. Enter the alternative password again to confirm.In case you forget your PIN, you\n",
            "can access the Kids Mode using this password. Do this by entering the name and date of birth of your\n",
            "kid on the fields.Tap the “Next” button located at the bottom of the screen, and a disclaimer will\n",
            "appear then tap on “Accept” to continue. Your kid will have access only to the applications you\n",
            "select in the Kids Mode. You can select various game apps for the kids that are already downloaded\n",
            "in your mobile or tablet. Tap “Finish” that appears at the bottom of the screen. The Kids Mode Home\n",
            "screen will appear in the background along with its various apps.Note that the two icons “Close Kids\n",
            "Mode” and “Go to Parental Control” are highlighted. The Kids Mode home screen will appear. Certain\n",
            "default apps that are exclusive to Kids Mode, such as Voice Recorder and Camera, will be displayed\n",
            "on the home screen along with the apps you had selected in the setup.It is to be noted that the Back\n",
            "button, Home button, and Menu button present below the touchscreen will not work in Kids Mode. This\n",
            "ensures that your kid’s activity is restricted to Kids Mode. Tap on “Parental Control,” the icon\n",
            "that is located at the right bottom corner of the Kids Mode home screen. Here you can monitor and\n",
            "manage your child’s activities in Kids Mode.Enter the PIN\n",
            "\n",
            "Actual Summary: Unlock your Samsung Galaxy device.Select the “Kids Mode” widget.Start downloading Kids Mode.Install Kids Mode.Launch Kids Mode.Set the PIN for the Kids Mode widget.Set an alternative password after entering your PIN.Set up your child’s profile.Select the applications from the displayed list.Finalize the setup.Tap the “Close” button at the top right corner.Manage and monitor your kids’ activities.Exit Kids Mode.\n",
            "\n",
            "Predicted Summary: Open the Samsung Galaxy’s Home screen.Download the Kids Mode widget.Access the Kids Mode app.Open the Kids Mode home screen.Select a default Android app.Tap on Parental Control.View your child’s activity.\n",
            "=====================================================================\n",
            "\n",
            "WikiHow Text: Although the exact instructions on how to use an iron vary from model to model, the\n",
            "general concept is the same. First, fill the water reservoir before plugging it in to avoid any\n",
            "mishaps or electrical shocks. Next, plug it in and select your desired settings. Give it a couple\n",
            "minutes to heat the water. Always keep it sitting on its heel, rather than flat on a surface, to\n",
            "avoid scorching the surface.Once you’re ready to begin pressing your pants, keep this in mind:When\n",
            "pressing pants, all you need to do with the iron is gently press downward for a second or two and\n",
            "give the fabric a squirt of steam as you do so, with none of the back-and-forth movement that comes\n",
            "with regular ironing.;, First, check the inside tag to your pants. Read the care label. Note the\n",
            "recommendations it gives for which temperatures and settings to use on your iron. Adjust your iron’s\n",
            "settings accordingly.If the care label is missing, check the tags to any matching articles if it\n",
            "came as part of a set with a jacket or vest.If you are unsure of what setting to use, practice on\n",
            "the inside of the pants first, where no one will see any marks (such the waistband or the\n",
            "pockets).Start with the lowest temperature possible if you don’t know which one to use., With the\n",
            "fly unzipped, fold the waist of your pants so you can draw the pocket liners clear of the pants’\n",
            "“wrong side” and into the open. Lay one pocket flat on the ironing board. Use your iron to press it\n",
            "flat. Move on to the next pocket and repeat.With each press, give the fabric a squirt of steam.The\n",
            "“wrong side” is whichever part of your clothing doesn’t see the light of day.In the case of pants,\n",
            "that means the inside of the waist and legs.Since pockets are so small, this is a good place to\n",
            "begin practicing “pressing” as opposed to “ironing.”, Draw the pants over the ironing board so the\n",
            "edge of the board slips inside the waist, as though you were helping the board to get dressed. Press\n",
            "along the waistband first. Reposition the pants as you go until you complete the full circuit around\n",
            "the band. From there, press the rest of the upper pants (hips,\n",
            "\n",
            "Actual Summary: Learn how to use your steam iron.Select the right settings.Start with the pockets.Move on to the upper pants.Find your creases.Lay the pants lengthwise along your ironing board.Start by pressing the front crease of one leg.Move on to the back crease and second leg.Let the pants cool down.Apply a vinegar solution.Smack them dry.Hang your pants up.\n",
            "\n",
            "Predicted Summary: Prepare your iron.Plug the water reservoir into your iron.Check the temperature and settings of your pants.Press the waistband.Draw the pants.Repeat the process.\n",
            "=====================================================================\n",
            "\n",
            "WikiHow Text: These microphones are available at electronic and phone stores, and typically come\n",
            "mounted in suction cups to allow easy attachment to the handset. Plug the microphone's audio output\n",
            "jack into a computer, tape recorder, or other such device. A tape recorder or digital portable\n",
            "recorder has the advantage of being relatively small and portable, but a computer has advantages\n",
            "when it comes to cataloging and organizing your conversations.A good basic audio editing program for\n",
            "your computer is Audacity. Audacity is free, simple, and useful for things like clipping dead space\n",
            "off the ends of conversations. It can also export the conversation files in a variety of formats for\n",
            "easy storage. Audacity can be downloaded here. Secure the microphone to the handset near the\n",
            "receiver (the end you speak into). Test the microphone by speaking into the receiver and playing\n",
            "back the audio record on your input device.If you're worried the microphone's suction cup won't\n",
            "hold, secure the microphone with tape to ensure that your recording won't be interrupted. Turn on\n",
            "the induction coil microphone when you pick up the handset. Turn it off and stop recording when\n",
            "you're finished.\n",
            "\n",
            "Actual Summary: Record with an induction coil microphone.Attach a recording device.Place the microphone.Record your conversation.\n",
            "\n",
            "Predicted Summary: Purchase a portable microphone.Plug the microphone's audio output jack into a computer.Use Audacity to record conversations.Test the microphone.\n",
            "=====================================================================\n",
            "\n",
            "WikiHow Text: especially the section about physically removing the starter from the engine\n",
            "compartment. This should help you decide whether to take the vehicle into service vs doing this\n",
            "yourself., You will be in and under the wheel well most of the time., you can remove the plastic\n",
            "rivets with a large screwdriver or stretch the rubber guards over the heads of the rivets., (just\n",
            "aft of the strut). The starter will not fit through this space without moving this brake line\n",
            "first., It is held in place by an O ring. twist and pull the upper section up. It comes out\n",
            "reasonably easy, plug the top of the bottom section with a paper towel as to not contaminate the\n",
            "transmission fluid.,, You will have to go under the truck and come in from behind the starter\n",
            "through a maze of brake lines etc. The swivel headed ratchet makes this job MUCH easier. Using a 12\n",
            "to 14 inch (30.5 to 35.6 cm) extension and the same 14mm socket and swivel ratchet remove the top\n",
            "bolt., Depress the plastic locking key and slide the plug out. Fortunately this removed easy,\n",
            "because there is little room to maneuver and no room to use pliers. If you had to use force there is\n",
            "no room for leverage., THIS IS THE MOST DIFFICULT PART OF THE JOB. I was unable to do it myself and\n",
            "ended up having a Toyota Service supervisor come to my home and assist me. He said only two of his\n",
            "three techs are able to perform this task. The starter needs to be removed gears first, through the\n",
            "wheel well opening, it needs to be lifted (gears up) and rotated toward the opening so that it is\n",
            "removed not quite horizontally. As the starter is moved toward the opening it has to be rotated so\n",
            "the positive battery lead bolt can clear obstructions. The starter is then advanced in position and\n",
            "rotated opposite direction. Advance the starter in position and wiggle it in position until it can\n",
            "be removed. This is MUCH more difficult than it sounds. As I said I was unable to perform this\n",
            "task., You will need an impact driver to take the starter apart and check the bushes (also called\n",
            "lunge contacts). The brushes are usually just over an inch long and spring-loaded, if they appear to\n",
            "have plenty of carbon\n",
            "\n",
            "Actual Summary: Read through these instruction thoroughly.Remove the negative battery lead.Jack the car up, place very secure jack stands under the frame and forward of the wheel, on the passenger side, and remove the front passenger wheel.Remove the rubber splash guards from the inner wheel well, forward, and aft of the wheel.Find the brake line securing bracket and with the 12mm ratcheting wrench, remove the 12 mm bolt holding it in place to the back of the frame.(Auto Transmission only) Through the engine compartment, remove the securing bracket for the transmission fluid dip stick (a 12mm bolt), remove the dip stick, then remove the top section of the\n",
            "\n",
            "Predicted Summary: Determine if you want to take the vehicle into the engine compartment.Remove the rivets from the engine compartment.Remove the top of the bottom section with a paper towel.Remove the top bolt and remove the top bolt.Remove the starter gears.Remove the starter gears first.Remove the starter.Remove the starter.Remove the starter brush.Remove the starter brush.\n",
            "=====================================================================\n",
            "\n",
            "WikiHow Text: The ridge-line will support the top section of your tarp shelter. This line is created\n",
            "by stringing a length of cord between two trees. This gives your tarp an elevated point of support\n",
            "and will form the shape of the a-frame tarp shelter. Place the ridge-line using these steps:Tie one\n",
            "section of the rope to a tree. Place it as high up the tree trunk as you would like the roof of your\n",
            "tarp shelter to be.Bring the other end over to the adjacent tree and tie it at the same level.Make\n",
            "sure the cord is as tight as it can be to ensure a strong ridge-line. Once your ridge-line has been\n",
            "created, you can lay the tarp over top of it. For an a-frame tarp shelter, place the tarp over the\n",
            "ridge-line in the center of the tarp. This will leave equal halves of the tarp hanging down from the\n",
            "ridge-line.Make sure the tarp is equally hanging from both sides of the ridge-line to avoid\n",
            "problems. After you've placed the tarp over the ridge-line, you can fasten it to the ground. Take\n",
            "one of the bottom sections of tarp and pull it outwards, away from the center of the tent. Once\n",
            "you've gotten it to a place that you like, secure it to the ground by taking these steps:Place a\n",
            "tent stake into the ground, near to the point the tarps corner while it is stretched out.Tie a\n",
            "length of cord between the tent stake and the corner of the tarp.Make sure this cord is tight and\n",
            "holds the tarp securely to the ground.Do the same thing for each of the other three corners of your\n",
            "a-frame tarp shelter.\n",
            "\n",
            "Actual Summary: Create the ridge-line.Lay the tarp over the rope.Anchor the tarp to the ground.\n",
            "\n",
            "Predicted Summary: Set up a ridge-line.Place the tarp over the ridge-line.Secure the tarp to the ground.\n",
            "=====================================================================\n",
            "\n",
            "WikiHow Text: Always use warm water, as hot water can dry out your scalp and also cause color to\n",
            "fade. You should only shampoo and condition your hair every few days. A conditioner is usually\n",
            "necessary only if you blow dry your hair often and need extra protection from heat damage.Towel dry\n",
            "your hair. It will be much easier to blow dry your bangs if they are already somewhat dry. You don't\n",
            "want water to be dripping off of your hair--try using your fingers and towel to get it about 75%\n",
            "dry.;, You should only need a tiny bit, less than a dime-size drop. This little drop should be\n",
            "enough product to run through all your hair, and you should only use a tiny fraction of it on your\n",
            "bangs. Too much product in your bangs--whether it's a volumizing serum or styling spray--can weigh\n",
            "your bangs down and make your hair look greasy.If you have curly hair, you may want to apply an\n",
            "anti-frizz serum so the heat from the blow dryer doesn't make your hair frizzy. Your hair is at its\n",
            "most fragile when it's wet, and you risk damaging and breaking the strands if you're trying to yank\n",
            "through knots and tangles as you dry.Use a clip to section your hair away from your bangs.\n",
            "\n",
            "Actual Summary: Wash your hair as normal.Apply a heat protectant serum to your hair.Comb your hair with a wide-tooth comb to make sure you remove any tangles.\n",
            "\n",
            "Predicted Summary: Get warm water.Apply a little more product to your bangs.Separate your hair from your bangs.\n",
            "=====================================================================\n",
            "\n",
            "WikiHow Text: The basic purpose could be:To use Arabic in day to day conversationsTo enjoy traveling\n",
            "in the Middle East from tourism point of viewTo learn Arabic cultureTo engage in business with the\n",
            "Arabs.;, Arabic words and phrases can be learnt through books, Internet and classroom training. Some\n",
            "examples are:-Books for Learning Arabic:Arabic Verbs and Essentials of Grammar- Jane Wightwick and\n",
            "Mahmoud GaafarThe First Thousand Words in Arabic (Heather Amery & Stephen Cartright).Get By in\n",
            "Arabic (BBC)Internet Resources for Learning Arabiclearnarabiconlinearabic.speak7funwitharabic.\n",
            "Learning Arabic isn’t easy. However, there are many resources available to help you learn the\n",
            "language correctly. You’ll just need to dedicate a specific amount of time each day to learning new\n",
            "words and phrases. One of the best ways to learn is through an online course, since you can easily\n",
            "access a lesson and pick up where you left off. There are also many courses that offer online\n",
            "lessons, as well as CDs or tapes that you can listen to while driving. Several of these courses also\n",
            "have textbooks and flashcards to help you learn. Below are some examples of basic Arabic words and\n",
            "phrases:Greetings and Goodbyes Hi or Hello: Salam Good Morning: Sabah el kheer Goodbye: Masalam\n",
            "General ConversationHow are you? Kayfa Haloki (female) Kaifa Halok (male)Thank you: Shokran or\n",
            "MushkoorYou’re welcome: A'afwaan / AhlanCan you help me? Hal Beemkanek mosa dati? Momken\n",
            "Tesaedni?I’m sorry: Afwan (for not understanding something)I’m sorry: Aasef (for making a\n",
            "mistake)How much does this cost: Kam howa thamanoh? Bekam?I don’t understand: La afhamDo you speak\n",
            "English? Hal tatakallam EngleezeeWhat is your name? Ma howa ismok?I don’t know: Ma ba'arf / la\n",
            "aalamAnd peace be upon you, too: Wa Alaikum assalaamI don’t\n",
            "\n",
            "Actual Summary: Know why you want to learn basic words and phrases in Arabic.Find resources to learn from.Expect to put in good effort.Learn a few key words and phrases.\n",
            "\n",
            "Predicted Summary: Learn the basic purpose of Arabic.Learn Arabic words and phrases.Go online.Learn Arabic.Use Arabic as a way to learn.\n",
            "=====================================================================\n",
            "\n",
            "WikiHow Text: This will remove any residue or dirt. Simply run under warm water and add a little\n",
            "dish soap to get rid of grease. Make sure to do this prior to placing the sponge in the vinegar.,\n",
            "Use white vinegar because it doesn’t have any residue and will dry without a scent. Make sure the\n",
            "vinegar is high enough in the bowl to fully cover the sponge., Place the sponge in the vinegar so\n",
            "that it is fully covered. If you have the time, allow it to soak overnight for best results. Vinegar\n",
            "contains acetic acid that effectively kills over 99 percent of germs in five minutes. It also\n",
            "eliminates odors., Simply remove your sponge from the bowl and wring it out. Allow it to air-dry on\n",
            "a dish rack. There’s no need to rinse it. The vinegar will dry without an odor. Your sponge is ready\n",
            "to use! Over 99 percent of germs have been effectively eliminated.\n",
            "\n",
            "Actual Summary: Rinse the sponge.Fill a small glass bowl with a cup of vinegar.Keep the sponge in submerged in vinegar for at least 5 minutes.Squeeze out excess vinegar.\n",
            "\n",
            "Predicted Summary: Wash the sponge with a little dish soap.Pour the vinegar into a bowl.Stuff the sponge overnight.Wipe the sponge out of the bowl.Use your sponge.\n",
            "=====================================================================\n",
            "\n",
            "WikiHow Text: Look for self-tightening straps to help the boots fit securely and leather soles for\n",
            "flexibility.You can also consider taking your dog directly to a big-box pet supply store (like\n",
            "Petsmart or Petco) to try on the boots in person instead of ordering a few sizes.The ideal boot for\n",
            "your dog should be flexible enough to be comfortable, but tight and durable enough to stay on. It\n",
            "should also fit snugly at the ankle and have a bit of room at the toes for wiggle room., Once you’ve\n",
            "chosen a boot and selected an approximate size, loosen the straps or fasteners and open it\n",
            "completely before placing it on your dog. Carefully place the boot on your dog and tuck in all of\n",
            "its fur to make sure none is being pulled by the boot.You can use your finger as a shoehorn to help\n",
            "nudge your dog’s toes to the front of the boot. Once your dog’s paw is completely in the boot,\n",
            "fasten any straps. Gently press on the front of the boot to feel the clearance for your dog’s toes\n",
            "to see if there is any wiggle room.Try the boots on all four paws, since they may fit differently on\n",
            "each.A properly fitting boot should be easy to slip on, but not so loose that it slips off.\n",
            "\n",
            "Actual Summary: Select some boots to try on your dog.Open the boot completely.Insert your dog’s paw gently.Have your dog put all of its weight on the boot.\n",
            "\n",
            "Predicted Summary: Choose a boot.Place the boot on your dog.\n",
            "=====================================================================\n",
            "\n",
            "WikiHow Text: Enter the city via Route 110. Mauville City is a multi-layered city with a bike shop,\n",
            "gym, slot machines, and more.;, Head north from Route 110, to the center of town. The Pokémart is to\n",
            "your right. Walk past the mart and enter the gray house.You can pick up an X Speed along the way.\n",
            "Check behind the map near the bike racks on the south side of the city., He is scientist who calls\n",
            "himself Rock Smash Dude. He will give you HM Rock Smash.\n",
            "\n",
            "Actual Summary: Go to Mauville City.Find the gray house on the right of the Poké Mart.Enter the gray house and talk to the man at the table inside.\n",
            "\n",
            "Predicted Summary: Go to Mauville City.Go to the Pokémart.Call Rock Smash Dude.\n",
            "=====================================================================\n",
            "\n",
            "WikiHow Text: Sure, auditions can be intimidating, but here are some pointers to help take the\n",
            "stress out of the process and to help you nail it.If you're interested in getting involved, but not\n",
            "into acting, skip ahead to Method 3 for tips on how to get involved off-stage.Some pre-work goes\n",
            "into arranging for an audition, and being organized with your schedule is always a good initial\n",
            "start.If you have to call ahead to place an audition time, do so early to make sure there will be\n",
            "space for you.Make sure you write down the correct time and place for the audition, plan to arrive\n",
            "10 minutes earlier than the appointment time. Early arrival looks professional. Think about taking a\n",
            "couple of basic acting or improve classes before you dive into auditions. How to Prepare for a\n",
            "Theater AuditionIf you are supposed to prepare a song, scene, or monologue do so. Regardless of\n",
            "whether you have to prepare something or not, do familiarize yourself with the play or musical\n",
            "you're auditioning for. Nothing looks worse than walking into an audition knowing nothing about the\n",
            "show!If you weren't told to prepare anything, chances are you'll be doing a “cold read.” This means\n",
            "you will be given a song or scene and a few minutes to look over it before you have to perform it\n",
            "for the casting directors.Chances are you won't feel comfortable with the material. This is normal.\n",
            "Directors are testing how well you work under pressure. Just do your best and know you don't have to\n",
            "be perfect!, Be fearless and do your best! How to Audition for Local TheaterDress professionally,\n",
            "but also with personal style. Part of what you're selling on stage is yourself and your own unique\n",
            "personality. Show it off with your clothing!Sing loud and proud, even if you don't think you sound\n",
            "good, confidence can speak just as loudly as talent. Read the lines with emotion and feeling, and if\n",
            "you are dancing, smile and sell it, even if you don't know all the moves.Always be respectful to\n",
            "everyone at the audition, even if you're just waiting to go audition. Be nice to the directors,\n",
            "especially. Your attitude may determine whether or not they want to work with you and cast you in\n",
            "the show. A few days after auditions, there may be callbacks, or a second round of auditions.\n",
            "\n",
            "Actual Summary: Set up an audition.Prepare for the audition.Nail the audition.Follow up after the audition.\n",
            "\n",
            "Predicted Summary: Make sure you're ready to go into the auditions.Prepare for a Theater Audition.Be confident.\n",
            "=====================================================================\n",
            "\n",
            "WikiHow Text: Retinoids also come in oral form and, due to the medication's relation to Vitamin A,\n",
            "they can reduce the production of skin cells. This helps slow the scaling and flaking associated\n",
            "with psoriasis.Usually, oral retinoids are prescribed if your psoriasis does not respond to other\n",
            "treatment options. The main downside is that symptoms of psoriasis often return when treatment\n",
            "ceases.Hair loss and lip inflammation may occur while on oral retinoids. Women who are pregnant or\n",
            "breastfeeding should not take oral retinoids as they can cause severe birth defects., Methotrexate\n",
            "tablets help reduce psoriasis by decreasing skin cell production. They also reduce inflammation.In\n",
            "low doses, most patients experience minimal side effects on methotrexate. An upside to the\n",
            "medication is that it can stall psoriatic arthritis in some patients.Side effects may include upset\n",
            "stomach, fatigue, and loss of appetite. Longterm use is not recommended, however, as severe side\n",
            "effects such as liver damage and decreased production of red and white blood cells can occur if the\n",
            "medication is used too long.Topical application of liposomal methotrexate hydrogel is scientifically\n",
            "proven to be quite effective compared to conventional medication. As many oral medication carry\n",
            "heavy risk of side effects and cannot be used long term, injections might be an option if your\n",
            "psoriasis does not respond to other treatments.Enbrel, infliximab (Remicade), adalimumab (Humira)\n",
            "and ustekinumab (Stelara) are all given by intravenous, subcutaneous, or intramuscular injection.\n",
            "Usually, your doctor will only recommend such procedures if your psoriasis does not respond to other\n",
            "therapies and is causing arthritis.Biologically, such treatments should block interaction between\n",
            "certain cells in order to reduce skin inflammation.If you are taking these medications, you will\n",
            "probably be screened for tuberculosis as the meds have a strong effect on the immune system. They\n",
            "are usually a last resort effort and should only be used with extreme caution and under supervision\n",
            "of a doctor.\n",
            "\n",
            "Actual Summary: Use oral retinoids.Try methotrexate.Ask a doctor about skin injections.\n",
            "\n",
            "Predicted Summary: Use oral retinoids.Use methotrexate tablets.Try injections.\n",
            "=====================================================================\n",
            "\n",
            "WikiHow Text: You will be adding fruit to a base beer recipe, so you'll need to decide what style of\n",
            "raspberry beer to brew. In general, berries pair well with light, mild beers or rich, dark\n",
            "beers.Mild styles of beer such as blonde ales, Hefeweizens, and pilsners pair well with raspberries,\n",
            "making for a fruity, refreshing, and summer-friendly beer.Rich, malty styles of beer like stout and\n",
            "porter also work well with raspberries, where the fruit's tartness contrasts nicely with the smoky,\n",
            "chocolate overtones of the roasted malt.;, On brew day, you will do everything as you normally\n",
            "would, because you won't be adding the fruit until secondary fermentation. If you brew using the\n",
            "all-grain method, you will also mash and sparge the grain as usual., After boiling and cooling the\n",
            "wort, rack it into your primary fermenting vessel as usual. It is possible to add the raspberries\n",
            "during primary fermentation, but there are several major reasons why you should avoid doing\n",
            "this.Because the yeast have not had time to proliferate at this point, adding the raspberries poses\n",
            "a significant risk of bacterial infection, which will produce unpleasant flavors in your beer.Adding\n",
            "raspberries during primary fermentation will also lead to the nearly complete fermentation of the\n",
            "fruit's sugars, which will cause the raspberry flavor to dissipate significantly. Once the vigorous\n",
            "fermentation is complete, you are ready to begin secondary fermentation and add the raspberries. You\n",
            "have several options for adding the fruit to the fermenting beer.A popular option is to pour\n",
            "raspberry puree into the fermenter. This puree is readily available from brewing supply stores; it\n",
            "will provide intense flavor but will cloud your beer's appearance.Another option is to steep dried\n",
            "raspberries in the beer. This tends to produce a more nuanced flavor and preserves the beer's visual\n",
            "clarity.A third option is to add fresh raspberries to the fermenter. Because fresh raspberries have\n",
            "a high water content, however, you will need to add a lot to achieve noticeable flavor. When\n",
            "secondary fermentation is complete, you will bottle or keg the beer as usual. You may need to strain\n",
            "the beer when transferring it to your bottling bucket to\n",
            "\n",
            "Actual Summary: Decide on a base beer style.Brew the beer as you normally would.Rack the beer into the primary fermenter.Transfer the beer into the secondary fermenter.Bottle or keg the raspberry beer.Enjoy your raspberry beer.\n",
            "\n",
            "Predicted Summary: Choose a raspberry beer.Prepare your beer.Road the beer.Add the raspberries.Fertilize the beer.Strain the beer.\n",
            "=====================================================================\n",
            "\n",
            "WikiHow Text: You may not even need to hire a lawyer for your divorce. Most divorces, especially if\n",
            "there are no children involved and neither party contests anything, don't require an adversarial\n",
            "legal process.Consider using an experienced mediator instead. The mediator will work with you and\n",
            "your spouse to come up with a division of assets agreeable to both parties. After the assets have\n",
            "been divided, you and your spouse can file for divorce on your own.In many states spousal support,\n",
            "child support, and asset divisions follow rigid guidelines. You can calculate them with simple and\n",
            "inexpensive programs that can serve as the basis for mediation.;, Reduce the fear and the perception\n",
            "of the need to “legal up.” Try to mutually agree not to take any steps that will materially affect\n",
            "either of your financial situations without giving each other notice and reasonable time to\n",
            "respond.Even if you do decide to retain a lawyer, the process of divorce will be much easier if you\n",
            "try to cooperate with your spouse. When creating your list, include the attorney’s name, address,\n",
            "phone number, and website address. You can find nearby divorce attorneys by:Looking in your local\n",
            "yellow pages. Check your yellow pages under “attorney” then searching for ads that list divorce or\n",
            "family law as an area in which the attorney(s) practices.Running a search of an online phone\n",
            "directory.Using your favorite search engine to run an online search. You may be able to find divorce\n",
            "lawyers in your area by using your favorite search engine to search “divorce/family law attorneys in\n",
            "YOUR STATE”. If you live in California, for example, you would want to search “family law attorneys\n",
            "in California.”Visiting your state bar association’s website or calling and asking for a referral.\n",
            "Check to see if your state bar association certifies attorneys as specialists in family law. To\n",
            "locate your local bar association website, visit the website for the American Bar Association., You\n",
            "may be able to eliminate some lawyers from your list by looking at other people’s recommendations\n",
            "(to hire or not to hire) and referrals. A few ways to gather referrals and recommendations\n",
            "include:Talking to friends and family. Talk to friends and family members who have used a divorce\n",
            "lawyer. Find out who they hired, if they were happy with the services, and why or why not. Ask if\n",
            "they would recommend the attorney.Checking online reviews. Many\n",
            "\n",
            "Actual Summary: Decide whether you need an attorney.Give yourself (and your spouse) time.Create a list of local divorce attorneys.Narrow your list.Review each attorney’s website.Look for specialization within divorce law.Make an appointment with each of the remaining lawyers on your list.Gather the relevant information and documents.Prepare to ask questions about the attorney’s experience.Prepare to ask questions related to your specific situation.Prepare to ask questions that will help you assess the attorney’s availability to work on your case.Prepare to ask questions about costs.Ask your questions.Be aware that the attorneys you interview may not have answers to all of your\n",
            "\n",
            "Predicted Summary: Determine if you need an attorney.Create a list of divorce attorneys.Find your local bar association website.Review other referrals and recommendations.\n",
            "=====================================================================\n",
            "\n",
            "WikiHow Text: Since you're adding this bow to a wreath, pick out ribbon that will contrast with the\n",
            "deep evergreen color of the foliage. Red, silver, and gold ribbon all work well for this purpose.\n",
            "Cut a length at least 12 inches (30.5 cm) long. Hold the tail end of the ribbon against your palm,\n",
            "using your thumb to keep it in place. Wrap the ribbon around the back of your hand and bring it up\n",
            "over your palm. Keep doing this until the entire ribbon has been looped around your hand. Be careful\n",
            "to keep the loops in place, stacked on top of one another, when you slip them off of your hand. Hold\n",
            "the folded stack of loops in one hand so that the center fold is facing up. Use scissors to cut the\n",
            "the two corners off of the center fold. You've now created the place where the bow will be\n",
            "cinched.Be careful to cut through all of the ribbon layers using a good sharp pair of scissors.Don't\n",
            "cut the corners too close to the middle of the ribbon, or you'll cut it all apart. Use a second\n",
            "ribbon or piece of string to tie the cinch between the notches you made. Use a pretty piece of twine\n",
            "or florist wire for a decorative touch. One by one, fan out the loops from the center and twist them\n",
            "toward you. Arrange them so that they create a circular pattern reminiscent of petals. Use a little\n",
            "more florist twine to attach the bow to the bottom of your wreath.\n",
            "\n",
            "Actual Summary: Pick out bright ribbon.Wrap ribbon around your hand.Remove the loops and fold them in half.Cut the middle.Tie the cinch.Fluff out the loops.Affix the bow to your wreath.\n",
            "\n",
            "Predicted Summary: Cut a small piece of ribbon.Cut the ribbon around your palm.Create the center fold.Cut the corners off of the center fold.Tie the bow to the bottom of your wreath.\n",
            "=====================================================================\n",
            "\n",
            "WikiHow Text: When someone you know is diagnosed with cancer, you might feel completely numb or\n",
            "unable to process the situation. It is perfectly normal to be sad and upset about the situation, and\n",
            "not know what to do, but it’s important that you don’t drift away from your friend. Even if you\n",
            "don’t know what to say or how to react, make an effort to reach out and show your friend that you\n",
            "are there.Just sending a short note or email at first saying you have heard the news and are\n",
            "thinking of them can help your friend feel a bit less alone.You could say, “I’m sorry this has\n",
            "happened. I’m thinking of you.”If you don’t know what to say, it’s okay to admit this. Say “I’m not\n",
            "sure what to say, but I want you to know that I care and I’m here for you.”;, Everybody is\n",
            "different, but someone who has just been diagnosed with cancer will probably be feeling very lonely.\n",
            "It’s very important that you clearly show that you are there to support and help in any way you can.\n",
            "You can express your support by saying “Please let me know how I can help.”Just being a good\n",
            "listener can make a difference to somebody. Say something like, “If you want to talk, I’m there for\n",
            "you.”While you should offer to listen, you shouldn’t press her to talk or pass on more information\n",
            "to you about the diagnosis. In your letter will you want to show that you are there to help in any\n",
            "way you can. This support can be practical as well as emotional. In some cases practical help can be\n",
            "a big help to a friend suffering from cancer. Offering to do everyday tasks such as helping to look\n",
            "after children and pets, or washing and cooking, can really help somebody who is tired or feeling\n",
            "weak.Keep in mind that your friend may not want to feel that she is putting you out by asking for\n",
            "something.Try to help in a way that looks casual, even if it isn’t.For example, if you are offering\n",
            "to pick the kids up from school, you could say “I’m always in the area when they finish school, and\n",
            "could pick them up on the way home.”Don’t just say, “would you like me to pick up your kids from\n",
            "school?”, It’s important to express encouragement and not be pessim\n",
            "\n",
            "Actual Summary: Say something.Offer emotional support.Offer practical support.Be encouraging.Use humour when appropriate.Remember that each cancer journey is different.Don’t say you understand what your friend is going through.Don’t offer advice and don’t judge.Don’t be blindly optimistic.\n",
            "\n",
            "Predicted Summary: Show that you are there to help.Show your support.Offer practical help.Avoid pessimizing the situation.\n",
            "=====================================================================\n",
            "\n",
            "WikiHow Text: Cut near the base of the chive plant to encourage new growth.;, Rinse them with cold\n",
            "water., You can also use paper towels. You will want to ensure they are completely dry before\n",
            "freezing so that the water doesn't freeze and ruin the taste.Allow them to sit on the towel and air\n",
            "dry. Patting them can crush them, in which case you will lose some of the original flavor. It is a\n",
            "good idea to chop them to the size you usually use in cooking. You will be able to take the chopped\n",
            "chives directly from the refrigerator and use them in your recipes. Try to smooth them into 1\n",
            "horizontal layer for easy handling. Compress the bag before sealing to extract all of the air. Leave\n",
            "them there overnight. For example, you can take very small lunch bags and freeze a portion. Then,\n",
            "you can remove a lunch bag each time your recipe calls for fresh chives.Chives thaw quickly, so take\n",
            "care to repackage them within a few minutes of removing them from the freezer.This step is not\n",
            "necessary if you want to keep all the chives in the same bag. Opening and closing the bags will\n",
            "insert oxygen into the bag, so they may not taste as fresh. There is no need to thaw the chives, as\n",
            "they will do so quickly.Measure the chives according to fresh herb measurements, rather than dry\n",
            "herb measurements.\n",
            "\n",
            "Actual Summary: Snip your fresh chives.Wash your chives thoroughly.Trim off any root or unhealthy part of the chives.,Place the chives on a towel to dry.Chop the chives with a sharp knife.Place all of the chopped chives in a heavy duty freezer bag.Place the bag inside the freezer, taking care to set them atop something horizontal, so that they freeze in a layer.Remove the bag from the freezer and repackage the chives into servings for easy use.Take the chives from the freezer and place them directly in your food.Finished.\n",
            "\n",
            "Predicted Summary: Cut the chives.Remove the chives from the freezer.Place the chives on a paper towel and dry them.Cut the chives into 1 layer of parchment paper.Cover the chives with a small bag or plastic bag.Remove the chives from the freezer.\n",
            "=====================================================================\n",
            "\n",
            "WikiHow Text: , You'll find this under your profile picture in the top right corner of the red\n",
            "toolbar at the very top of all Yelp pages. You'll find this towards the left hand side of the page\n",
            "below the red toolbar on the page.This button will give you all your reviews you've already written\n",
            "where you'll be given an option to post a new review as a follow-up to the review you posted\n",
            "before., Compare all your old reviews to your new review you are planning to post? Try to answer\n",
            "some questions: Were all problems dealt with already or are there others that are still open to\n",
            "discussion by the company? In cases where past experience great, how did the present experience\n",
            "stack up - was it any better or worse than before? Did the employees have to encounter any problems?\n",
            "Was there service issues or did things run rather smooth? Although no two reviews should ever be the\n",
            "same, you should get an idea of what is going on before you write a review update., Although most\n",
            "often you'll find this to the right of the businesses name, there will be times (rare) when you'll\n",
            "find this button placed underneath the business name, address and contact details and below the\n",
            "pictures (but above the recommended other places near the establishment). Try to focus at first on\n",
            "what you skimmed through before and then add more details about your current experience. There is no\n",
            "length requirement, but writing it in a 2-3 (or more) paragraph style, you can give an accurate\n",
            "representation of what Yelp would consider a great review!, Rating your review is required for you\n",
            "to save or publish your review. The business' average star rating by customers who review will be\n",
            "determined solely on the review update as well any other updates from others (as opposed to any\n",
            "former reviews). If you write other review updates for that location of the business later, your\n",
            "newest dates' review will be used to determine the average rating for the business on Yelp. Make\n",
            "sure that the rating you give it, reflects the experience you described in the text of the review.\n",
            "You'll find the red and white Post Review button just below the optional questions and images to\n",
            "review (or below your the box for your present review (if there are no questions that Yelp is still\n",
            "unable to determine), but above your original reviews.\n",
            "\n",
            "Actual Summary: Visit the Yelp web page in your web browser..;,Click the About Me tab.Click the sub-tab called Reviews.Click the business' name from the review you'll need to update.,Skim through your past reviews.Click the red and white Update My Review button.Type your requested review information into the appropriate boxes.Rate your feedback.Scroll down to the bottom of your page and publish your updated review, just like you would have if this review had been your original review.\n",
            "\n",
            "Predicted Summary: Open Yelp.,Write a new review.Write your current review.Write your review in a 2-3 (or more) paragraph style.Click the Post Review button on the bottom of the page.\n",
            "=====================================================================\n",
            "\n",
            "WikiHow Text: A lot of the time squinting is caused by the amount of light we are taking in. If you\n",
            "are able, adjust the brightness settings of available light sources. For example, change the type of\n",
            "bulb in your office or home to a lower wattage.It may be difficult to change the lighting in your\n",
            "office so it is best to consult your immediate supervisor or the Human Resources Department before\n",
            "attempting to make any changes yourself.If you are squinting when reading an electronic device,\n",
            "check the settings if it is possible to adjust the brightness settings. For example, televisions and\n",
            "mobile phones can easily be adjusted within the settings menu. The most common reason for squinting\n",
            "is due to the brightness of the sunshine. If you are squinting outside on a bright sunny day, a pair\n",
            "of quality sunglasses may solve or reduce the problem. Research what brands offer as some brands\n",
            "focus on fashion while others on function.Make sure the glasses block at least 99% of ultraviolet\n",
            "(UV) rays.Budget how much you are willing to spend on sunglasses as some can reach upwards of $500.\n",
            "If you are liable to lose them, think about choosing a pair of sunglasses that fit within your\n",
            "means.If you are more active, choose a pair of sunglasses that won’t fly off your face easily. You\n",
            "can also purchase accessories to keep them in place or to turn your everyday glasses into sunglasses\n",
            "by simply clipping onto the frame. The brim of a hat or visor provides temporary shade by cutting\n",
            "the amount of light entering into your eyes. Choose a hat or visor that’s comfortable and suits your\n",
            "style. A baggy hat may fly off when windy; in contrast, a hat that is too small may cut off\n",
            "circulation and cause you discomfort.Many hats can be adjusted or come in different sizes. Make sure\n",
            "you choose one right for your head shape.Some athletic hats are made of breathable material that\n",
            "wicks sweat away from the body, which may be a wise choice for humid climates or if you are prone to\n",
            "sweating a lot. Many individuals who play sports outdoors or under bright stadium lights use eye\n",
            "black to reduce glare. Apply black strips or black grease underneath each eye to help reduce\n",
            "squinting. Be careful when using grease and make sure not to let it stain clothes or\n",
            "\n",
            "Actual Summary: Adjust the light of the room.Wear sunglasses.Wear a hat or visor.Use eye black.\n",
            "\n",
            "Predicted Summary: Adjust the brightness settings.Choose sunglasses that fit within your means.Use a baggy hat or visor.Use black to reduce glare.\n",
            "=====================================================================\n",
            "\n",
            "WikiHow Text: While social media is becoming one increasingly important factor in guiding how we\n",
            "live and interact in our globally connected world, it's obviously not the only factor. Yet, it's\n",
            "clearly an important factor, especially when it comes to coordinating, mobilizing, giving very up-\n",
            "to-the-moment information, and ensuring a morale boost of great immediacy to those participating in\n",
            "political or social change.The real power of social media is in the fact that you, and all of your\n",
            "friends, coworkers, family members, fellow consumers, and everyone else around you regardless of\n",
            "age, gender, class, or employment status, who has access to social media tools, has automatic access\n",
            "to tools of change. For the first time in history, the immediacy and breadth of access allows almost\n",
            "everyone to have a say, or to watch what's happening, or to become actively engaged in supporting\n",
            "and clarifying what is going on.However, bear in mind that other factors feed into political change,\n",
            "such as the time being right, there being enough people ready for change, and the availability of\n",
            "basic essentials such as food, shelter, electricity/energy (it's a bit hard to tweet or update\n",
            "without it), good health, and affordability of the tools giving access to social media platforms.\n",
            "And literacy is a must. And clearly not everyone has access to these tools (for example, in Bhutan,\n",
            "access to the internet is extremely controlled and during a crisis, governments have already shown a\n",
            "willingness to interfere with the communications systems). Nevertheless, given what has already been\n",
            "shown as possible, it's now valid to say that activists and visionaries can seize the opportunity\n",
            "inherent in social media to help spur political change.;, There are the those who argue that social\n",
            "media is not creating political or social change and that it's a poor choice of tool to evoke such\n",
            "change.Others feel that it's overstepping the mark to suggest that social media can serve as a such\n",
            "a tool although it does play a particular role. Yet, recent events showing dissent against\n",
            "authoritarian governments have proven that social media is effective as a participant in spurring\n",
            "political and social change. And as Professor Clay Shirky points out, while detractors may argue\n",
            "that a bunch of people clicking on Save Darfur might not be any more helpful than bumper sticker\n",
            "activism, it's wrong to assume from that that people\n",
            "\n",
            "Actual Summary: Be realistic about the potential of social media to spur political or social change.Understand the negativity about social media being viewed as a tool for political change.Use social media to learn about other perspectives and to grow in deeper understandings.Seek what's really happening.\n",
            "\n",
            "Predicted Summary: Be aware that social media is a important factor.Consider the role of social media.\n",
            "=====================================================================\n",
            "\n",
            "WikiHow Text: Make sure the picture of George is on the inside.;, Fold both of the sides into the\n",
            "middle crease from the first fold., At the same end, fold the corners into the middle line that is\n",
            "made by the two folds. This will be the collar. The exact angles are not critical. This fold can\n",
            "cross the circular pattern to form a necklace; see the front of the shirt in the next step. You can\n",
            "also adjust this fold to control the length of the finished shirt. You can get the best fit by\n",
            "tucking the end snugly under the collar and then sliding your finger to the bottom to form the\n",
            "crease.Unfold both of the folds you just made. Then slightly unfold the two middle folds for the\n",
            "“sleeves.” Take one side at the bottom of the dollar where you just made the fold in step 5. Pinch\n",
            "out a corner shape (reverse the crease made in step 5 on the outer edge).Fold the side back into\n",
            "place with the “sleeve” sticking out.Make the other sleeve the same way.\n",
            "\n",
            "Actual Summary: Fold the dollar bill in half like a hot dog bun.Unfold the dollar.Turn the dollar bill over and fold down the white part at the side near the edge.,Turn it again.Fold the opposite end in as shown.Fold the same end that you just folded again, up the rest of the way so the bottom fits neatly under the “collar.” The collar holds this fold in place.Make the sleeves.Fold both of the upwards folds back under the collar, and now you have a collared shirt made of a one dollar bill!\n",
            "\n",
            "Predicted Summary: Make a picture of George.Fold the sides into the middle crease.Fold the corners in the middle line.Fold the ends into the middle line.Make the collar.Adjust the folds to form the crease.\n",
            "=====================================================================\n",
            "\n",
            "WikiHow Text: Each airline has a different seat design, but you should find a lever on the side of\n",
            "your seat in many cases. Pull it up to bring the seat back up. If you can't find the lever, ask a\n",
            "flight attendant for help., Most airlines still use seat belts that only go across your lap. Locate\n",
            "the buckle on one side and the latching device on the other. Straighten out each side, if necessary.\n",
            "Insert the buckle into the latching device. Make sure you hear a click. Pull the belt until it's\n",
            "snug across the tops of your thighs., Do this even if the captain turns off the “Fasten Seat Belts”\n",
            "sign. If you decide to recline, make sure the belt stays snug across your lap. If you're using a\n",
            "blanket, place it between the belt and your body.\n",
            "\n",
            "Actual Summary: Straighten your seat back, if necessary.Fasten the seatbelt across your lap.Keep your seatbelt fastened throughout the flight.\n",
            "\n",
            "Predicted Summary: Find a lever on the side of your seat.Insert a buckle into the latching device.Place the belt between the belt and your body.\n",
            "=====================================================================\n",
            "\n",
            "WikiHow Text: In most cars, you simply need to open the hood of your car to access the battery.Some\n",
            "batteries are located lower in the engine compartment, behind the front bumper and ahead of the\n",
            "front wheels. These are sometimes accessed from the bottom and need to be removed for service.Most\n",
            "BMW and Mercedes Benz batteries and a few others are located in the trunk, concealed in an isolated\n",
            "compartment.Batteries may also be located under the rear seat, such as in some Cadillacs.;, Before\n",
            "you check the water levels, clean any dirt or debris from the top of the battery and around the\n",
            "battery terminals. This is important, as you do not want any foreign material entering the battery\n",
            "cells when you open them. This is also important because a clean battery surface helps slow or stop\n",
            "corrosion on nearby metal.For general cleaning of road grime and minor corrosion, use an ammonia-\n",
            "based window cleaner. Spray the cleaner on your rag — not on the battery itself — and wipe away any\n",
            "dirt. Paper towels can be used as long as you replace them before they disintegrate to bits.Heavy\n",
            "corrosion can be cleaned with a paste of baking soda and water. Again, wet the rag and wipe, do not\n",
            "soak the battery with baking soda. Sometimes it takes many repetitions of wetting the rag and\n",
            "wiping. Follow up by cleaning with a rag dampened with window cleaner to remove the baking soda.\n",
            "Leaving a residue of baking soda on the exterior of the battery will speed up future corrosion of\n",
            "the terminals and nearby metal.Don't get ahead of yourself here — be sure the covers are on the\n",
            "battery ports at this stage of cleaning. Do not let cleaning fluids drip or flow into the battery\n",
            "through the ports.Note: If you prefer, you can remove the battery from the car before cleaning and\n",
            "performing this maintenance, and reinstall it afterwards. This may be safer, especially if the\n",
            "battery is in an awkward location. This will reset some or all of the electronics in the car however\n",
            "(clock, radio station presets, etc.). If the battery can be serviced without removing it from the\n",
            "car, this usually saves considerable time overall.You can also remove the battery terminals from the\n",
            "battery and dip them in a cup of very hot water. The hot water will melt away the corrosion, leaving\n",
            "a clean surface. Make sure you the terminals are completely dry before replacing\n",
            "\n",
            "Actual Summary: Locate the battery.Clean.Open the ports.Continue cleaning if necessary.Compare the fluid levels in each cell.Recognize when electrolyte levels are low.Recognize when electrolyte levels are normal.Recognize when the electrolyte is at its maximum level.Keep in mind that these levels are for lead-acid automotive batteries only.Use only distilled water to fill the cells.If the battery is weak or dead, avoid filling the cells fully.Wipe up spills and close the ports.Protect your eyes by wearing safety goggles.Protect your hands by wearing disposable gloves.\n",
            "\n",
            "Predicted Summary: Find the battery terminals.Clean any dirt and debris.Wipe away dust with a rag dampened with window cleaner.Remove the batteries from the car.Reinstall the battery.\n",
            "=====================================================================\n",
            "\n",
            "WikiHow Text: Solving the cube root of a number is going to look like solving a long division\n",
            "problem, with a few special differences. The first step is to set up the problem in the proper\n",
            "format.Write down the number whose cube root you want to find. Write the digits in groups of three,\n",
            "using the decimal point as your starting place. For this example, you will find the cube root of 10.\n",
            "Write this as 10. 000 000. The extra 0s are to allow precision in the solution.Draw a cube root\n",
            "radical sign over the number. This serves the same purpose as the long division bar line. The only\n",
            "difference is the shape of the symbol.Place a decimal point above the bar line, directly above the\n",
            "decimal point in the original number.;, You will use these in the computations. These cubes are as\n",
            "follows:13=1 ⁇ 1 ⁇ 1=1 ⁇ displaystyle 1 ⁇ 3 ⁇ =1*1*1=1 ⁇ 23=2 ⁇ 2 ⁇ 2=8 ⁇ displaystyle 2 ⁇ 3 ⁇\n",
            "=2*2*2=8 ⁇ 33=3 ⁇ 3 ⁇ 3=27 ⁇ displaystyle 3 ⁇ 3 ⁇ =3*3*3=27 ⁇ 43=4 ⁇ 4 ⁇ 4=64 ⁇ displaystyle 4 ⁇ 3 ⁇\n",
            "=4*4*4=64 ⁇ 53=5 ⁇ 5 ⁇ 5=125 ⁇ displaystyle 5 ⁇ 3 ⁇ =5*5*5=125 ⁇ 63=6 ⁇ 6 ⁇ 6=216 ⁇ displaystyle 6 ⁇\n",
            "3 ⁇ =6*6*6=216 ⁇ 73=7 ⁇ 7 ⁇ 7=343 ⁇ displaystyle 7 ⁇ 3 ⁇ =7*7*7=343 ⁇ 83=8 ⁇ 8 ⁇ 8=512 ⁇\n",
            "displaystyle 8 ⁇ 3 ⁇ =8*8*8=512 ⁇ 93=9 ⁇ 9 ⁇ 9=729 ⁇ displaystyle 9 ⁇ 3 ⁇ =9*9*9=729 ⁇ 103=10 ⁇ 10 ⁇\n",
            "10=1000 ⁇ displaystyle 10 ⁇ 3 ⁇ =10*10*10=1000 ⁇, Select a number that, when cubed, gives the\n",
            "largest possible result less than the first set of three numbers.In this example, the first set of\n",
            "three numbers is 10. Find the largest perfect cube that is less than 10. That number is 8, and its\n",
            "cube root is 2.\n",
            "\n",
            "Actual Summary: Set up the problem.Know the cubes of single digit numbers.Find the first digit of your solution.Set up to find the next digit.Find the beginning of the next divisor.Find the next number in your cube root solution.Determine the rest of the divisor.Multiply and subtract.Decide whether to proceed for more accuracy.Find the divisor for the next round.Multiply the divisor by your solution number.Write down your final answer.Use cube numbers to set upper and lower limits.Estimate the next digit.Test your estimate by cubing it.Adjust your estimate as\n",
            "\n",
            "Predicted Summary: Find a cube root radical.Find the cube root of a number.Create a cube root.\n",
            "=====================================================================\n",
            "\n",
            "WikiHow Text: Make sure you've got all the cables disconnected from the back of your console,\n",
            "especially the power cord., You'll need the straight end to be about 2-3 inches long.You will need a\n",
            "large size paper clip for this method because it will need to go in about 1 and a half inches to\n",
            "push the disc out., It's located on the left side of the console, right behind the vents.The eject\n",
            "hole on an Xbox One S is located at the second hole on the left from the right corner and the third\n",
            "hole up from the bottom. It can be more difficult to spot, so it's best to have a good amount of\n",
            "light available. Doing so will cause the disc to pop out a little bit., Carefully pull the disc the\n",
            "rest of the way out with your fingers. It might be a good idea to use a cloth or soft fabric to\n",
            "protect the disc from fingerprints and scratching.\n",
            "\n",
            "Actual Summary: Unplug all cables from your Xbox One.Bend a paper clip into a straight line.Locate the orange circle.Insert the paper clip into the eject hole.Use your fingers to pull the disc out.\n",
            "\n",
            "Predicted Summary: Gather the cables.Place the disc on your console.Section the eject hole on the left side of the console.Pull out the disc.Remove from the back of the console.\n",
            "=====================================================================\n",
            "\n",
            "WikiHow Text: The end should have no obstructions or hooks that will restrict the flow of blood. Use\n",
            "the needle sheath to secure the needle in the holder., Avoid pushing the tube past the recessed line\n",
            "on the needle holder or you may release the vacuum. Your thumb should pull the skin taut about 1 to\n",
            "2 (2.5cm to 5cm) below the puncture site. Make sure the patient's arm points slightly down to avoid\n",
            "reflux. Make sure the bevel is up. Push the collection tube toward the holder until the butt end of\n",
            "the needle pierces the stopper on the tube. Make sure that the tube is below the puncture site.\n",
            "Remove and discard the tourniquet as soon as blood flow into the tube is adequate. Mix the contents\n",
            "if the tube contains additives by inverting the tube 5 to 8 times. Do not vigorously shake the\n",
            "tube., Place a piece of gauze over the puncture site. Place the gauze on top of the venipuncture\n",
            "site and apply gentle pressure to stop the bleeding.\n",
            "\n",
            "Actual Summary: Inspect your needle for defects.Thread the needle into the holder.Tap any tubes that contain additives to dislodge the additives from the walls of the tube.,Insert the blood collection tube onto the holder.Grasp your patient's arm.Line up the needle with the vein.Insert the needle into the vein.Allow the tube to fill.Remove the tube from the holder when the blood flow ceases.Fill the remaining tubes until you've completed the requisition.,Ask the patient to open his or her hand.Remove the needle.\n",
            "\n",
            "Predicted Summary: Use a needle sheath to secure the tube.Place the tube on the holder.Push the tube into the tube.Remove the tube from the tube.Use gauze to stop bleeding.\n",
            "=====================================================================\n",
            "\n"
          ],
          "name": "stdout"
        }
      ]
    },
    {
      "cell_type": "markdown",
      "metadata": {
        "id": "i6PN6QoALw1b"
      },
      "source": [
        "## Testing using AutoModel loader"
      ]
    },
    {
      "cell_type": "code",
      "metadata": {
        "ExecuteTime": {
          "end_time": "2020-09-06T12:11:08.098275Z",
          "start_time": "2020-09-06T12:11:08.096343Z"
        },
        "id": "_qbCJ1s5Lw1b"
      },
      "source": [
        "from transformers import AutoTokenizer, AutoModelWithLMHead\n",
        "import torch"
      ],
      "execution_count": null,
      "outputs": []
    },
    {
      "cell_type": "code",
      "metadata": {
        "ExecuteTime": {
          "end_time": "2020-09-06T12:11:12.532641Z",
          "start_time": "2020-09-06T12:11:09.708535Z"
        },
        "id": "uqEaInEhLw1b"
      },
      "source": [
        "tokenizer = AutoTokenizer.from_pretrained(\"wikihow-t5-small\")\n",
        "\n",
        "model = AutoModelWithLMHead.from_pretrained(\"wikihow-t5-small\")"
      ],
      "execution_count": null,
      "outputs": []
    },
    {
      "cell_type": "code",
      "metadata": {
        "ExecuteTime": {
          "end_time": "2020-09-06T12:11:14.162773Z",
          "start_time": "2020-09-06T12:11:12.533612Z"
        },
        "id": "RMUQ5TXRLw1b"
      },
      "source": [
        "## Move to CUDA\n",
        "device = torch.device(\"cuda:0\" if torch.cuda.is_available() else \"cpu\")\n",
        "model = model.to(device)"
      ],
      "execution_count": null,
      "outputs": []
    },
    {
      "cell_type": "code",
      "metadata": {
        "ExecuteTime": {
          "end_time": "2020-09-06T12:11:19.675892Z",
          "start_time": "2020-09-06T12:11:19.670482Z"
        },
        "id": "u0Y7WEBtLw1c"
      },
      "source": [
        "text = \"\"\"\"\n",
        "Lack of fluids can lead to dry mouth, which is a leading cause of bad breath. Water\n",
        "can also dilute any chemicals in your mouth or gut that are causing bad breath., Studies show that\n",
        "eating 6 ounces of yogurt a day reduces the level of odor-causing compounds in the mouth. In\n",
        "particular, look for yogurt containing the active bacteria Streptococcus thermophilus or\n",
        "Lactobacillus bulgaricus., The abrasive nature of fibrous fruits and vegetables helps to clean\n",
        "teeth, while the vitamins, antioxidants, and acids they contain improve dental health.Foods that can\n",
        "be particularly helpful include:Apples — Apples contain vitamin C, which is necessary for health\n",
        "gums, as well as malic acid, which helps to whiten teeth.Carrots — Carrots are rich in vitamin A,\n",
        "which strengthens tooth enamel.Celery — Chewing celery produces a lot of saliva, which helps to\n",
        "neutralize bacteria that cause bad breath.Pineapples — Pineapples contain bromelain, an enzyme that\n",
        "cleans the mouth., These teas have been shown to kill the bacteria that cause bad breath and\n",
        "plaque., An upset stomach can lead to burping, which contributes to bad breath. Don’t eat foods that\n",
        "upset your stomach, or if you do, use antacids. If you are lactose intolerant, try lactase tablets.,\n",
        "They can all cause bad breath. If you do eat them, bring sugar-free gum or a toothbrush and\n",
        "toothpaste to freshen your mouth afterwards., Diets low in carbohydrates lead to ketosis — a state\n",
        "in which the body burns primarily fat instead of carbohydrates for energy. This may be good for your\n",
        "waistline, but it also produces chemicals called ketones, which contribute to bad breath.To stop the\n",
        "problem, you must change your diet. Or, you can combat the smell in one of these ways:Drink lots of\n",
        "water to dilute the ketones.Chew sugarless gum or suck on sugarless mints.Chew mint leaves.\n",
        "\"\"\""
      ],
      "execution_count": null,
      "outputs": []
    },
    {
      "cell_type": "code",
      "metadata": {
        "ExecuteTime": {
          "end_time": "2020-09-06T12:11:25.940815Z",
          "start_time": "2020-09-06T12:11:25.937188Z"
        },
        "id": "NZfFpGPKLw1d"
      },
      "source": [
        "preprocess_text = text.strip().replace(\"\\n\",\"\")\n",
        "tokenized_text = tokenizer.encode(preprocess_text, return_tensors=\"pt\").to(device)"
      ],
      "execution_count": null,
      "outputs": []
    },
    {
      "cell_type": "code",
      "metadata": {
        "ExecuteTime": {
          "end_time": "2020-09-06T12:11:32.501144Z",
          "start_time": "2020-09-06T12:11:31.917512Z"
        },
        "id": "mYRt_mNRLw1d"
      },
      "source": [
        "summary_ids = model.generate(\n",
        "            tokenized_text,\n",
        "            max_length=150, \n",
        "            num_beams=2,\n",
        "            repetition_penalty=2.5, \n",
        "            length_penalty=1.0, \n",
        "            early_stopping=True\n",
        "        )"
      ],
      "execution_count": null,
      "outputs": []
    },
    {
      "cell_type": "code",
      "metadata": {
        "ExecuteTime": {
          "end_time": "2020-09-06T12:11:38.309701Z",
          "start_time": "2020-09-06T12:11:38.289453Z"
        },
        "id": "ByQf9XAILw1d",
        "outputId": "9440505b-108c-48f3-8c64-a50f82a47b53"
      },
      "source": [
        "output = tokenizer.decode(summary_ids[0], skip_special_tokens=True)\n",
        "\n",
        "print (\"\\n\\nSummarized text: \\n\",output)"
      ],
      "execution_count": null,
      "outputs": [
        {
          "output_type": "stream",
          "text": [
            "\n",
            "\n",
            "Summarized text: \n",
            " Drink water.Eat yogurt.Eat fibrous fruits and vegetables.Try teas.Eat lactose-intolerant foods.Eat sugar-free gum.Drink plenty of water.\n"
          ],
          "name": "stdout"
        }
      ]
    },
    {
      "cell_type": "code",
      "metadata": {
        "id": "_QujbzquLw1d"
      },
      "source": [
        ""
      ],
      "execution_count": null,
      "outputs": []
    }
  ]
}